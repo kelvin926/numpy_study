{
  "nbformat": 4,
  "nbformat_minor": 0,
  "metadata": {
    "colab": {
      "name": "과학과 미래_3강_딥러닝실습의 사본",
      "provenance": [],
      "collapsed_sections": [
        "Zl0he_QmhFZ4",
        "t9zpz1XCiUl2",
        "1iK1XwO82OQn",
        "Y35c1QUv2fFz",
        "0Xv5ouzq58x6"
      ]
    },
    "kernelspec": {
      "name": "python3",
      "display_name": "Python 3"
    },
    "accelerator": "GPU"
  },
  "cells": [
    {
      "cell_type": "markdown",
      "metadata": {
        "id": "cly_BV_nTh3E"
      },
      "source": [
        "파일 > 드라이브에 사본저장하기 \n",
        "하여 사본 파일로 실습 진행하기 바랍니다.\n",
        "\n",
        "\n",
        "(해당파일은 구글 드라이브 colab notebooks 에 저장됩니다.)\n",
        "\n",
        "---\n",
        "\n"
      ]
    },
    {
      "cell_type": "code",
      "metadata": {
        "id": "o4tIbCqlOfEu"
      },
      "source": [
        ""
      ],
      "execution_count": null,
      "outputs": []
    },
    {
      "cell_type": "markdown",
      "metadata": {
        "id": "Zl0he_QmhFZ4"
      },
      "source": [
        "# Keras\n",
        "\n",
        "Keras is an open-source neural-network library written in Python.\n",
        "\n",
        "Simple. Flexible. Powerful."
      ]
    },
    {
      "cell_type": "code",
      "metadata": {
        "id": "wzKf1iUKhJ0i",
        "colab": {
          "base_uri": "https://localhost:8080/",
          "height": 35
        },
        "outputId": "657cb165-5f4a-4a2c-f77b-c92cfb41131c"
      },
      "source": [
        "import  tensorflow.keras\n",
        "tensorflow.keras.__version__"
      ],
      "execution_count": null,
      "outputs": [
        {
          "output_type": "execute_result",
          "data": {
            "application/vnd.google.colaboratory.intrinsic+json": {
              "type": "string"
            },
            "text/plain": [
              "'2.6.0'"
            ]
          },
          "metadata": {},
          "execution_count": 1
        }
      ]
    },
    {
      "cell_type": "code",
      "metadata": {
        "id": "JwREaQfCksQG",
        "colab": {
          "base_uri": "https://localhost:8080/",
          "height": 107
        },
        "outputId": "89f8c34c-08cf-4c11-8f1e-a1e0f0d9b436"
      },
      "source": [
        "### XOR GATE\n",
        "\n",
        "from tensorflow.keras import models\n",
        "from tensorflow.keras import layers\n",
        "import numpy as np\n",
        "import matplotlib.pyplot as plt\n",
        "\n",
        "X = np.array([[0,0],[0,1],[1,0],[1,1]])\n",
        "y = np.array([[0],[1],[1],[0]])\n",
        "\n",
        "network = models.Sequential()\n",
        "network.add(layers.Dense(2, input_shape = (2,),\n",
        "                         activation='sigmoid',\n",
        "                         kernel_initializer='glorot_uniform'))\n",
        "network.add(layers.Dense(1, activation='sigmoid',\n",
        "                         kernel_initializer='glorot_uniform'))\n",
        "network.compile(optimizer='adam',\n",
        "                loss='mse', metrics=['accuracy'])\n",
        "\n",
        "h=network.fit(X, y, epochs=10000, verbose=0)\n",
        "\n",
        "print(network.predict(X).round())\n",
        "\n",
        "plt.figure()\n",
        "plt.clf()"
      ],
      "execution_count": null,
      "outputs": [
        {
          "output_type": "stream",
          "name": "stdout",
          "text": [
            "[[0.]\n",
            " [1.]\n",
            " [1.]\n",
            " [1.]]\n"
          ]
        },
        {
          "output_type": "display_data",
          "data": {
            "text/plain": [
              "<Figure size 432x288 with 0 Axes>"
            ]
          },
          "metadata": {}
        }
      ]
    },
    {
      "cell_type": "markdown",
      "metadata": {
        "id": "t9zpz1XCiUl2"
      },
      "source": [
        "# MNIST (Modified National Institute of Standards and Technology database) \n",
        "\n",
        "머신 러닝 커뮤니티에서 가장 일반적으로 사용하는 데이터셋 중 하나는 MNIST 입니다. 이 데이터셋은 머신 러닝의 역사만큼 오래되었고 많은 연구에 사용되었습니다. 이 데이터셋은 1980년대에 미국 국립표준기술연구소에서 수집한 6만 개의 훈련 이미지와 1만 개의 테스트 이미지로 구성되어 있습니다. 코딩을 경험해보았다면, MNIST 문제를 알고리즘이 제대로 작동하는지 확인하기 위한 딥러닝계의 ‘Hello World’라고 생각해도 됩니다. "
      ]
    },
    {
      "cell_type": "markdown",
      "metadata": {
        "id": "1iK1XwO82OQn"
      },
      "source": [
        "## MNIST data"
      ]
    },
    {
      "cell_type": "code",
      "metadata": {
        "id": "2h1_6dNX2RUi",
        "colab": {
          "base_uri": "https://localhost:8080/"
        },
        "outputId": "9685b831-5b3d-46cd-ab2f-d9d575767e94"
      },
      "source": [
        "from tensorflow.keras.datasets import mnist\n",
        "\n",
        "(train_images, train_labels), (test_images, test_labels) = mnist.load_data()"
      ],
      "execution_count": null,
      "outputs": [
        {
          "output_type": "stream",
          "name": "stdout",
          "text": [
            "Downloading data from https://storage.googleapis.com/tensorflow/tf-keras-datasets/mnist.npz\n",
            "11493376/11490434 [==============================] - 0s 0us/step\n",
            "11501568/11490434 [==============================] - 0s 0us/step\n"
          ]
        }
      ]
    },
    {
      "cell_type": "code",
      "metadata": {
        "id": "LEJuqJCc2VHd",
        "colab": {
          "base_uri": "https://localhost:8080/"
        },
        "outputId": "ebb00769-a8c2-4e2b-ffa8-3ba06f267222"
      },
      "source": [
        "train_images.shape"
      ],
      "execution_count": null,
      "outputs": [
        {
          "output_type": "execute_result",
          "data": {
            "text/plain": [
              "(60000, 28, 28)"
            ]
          },
          "metadata": {},
          "execution_count": 4
        }
      ]
    },
    {
      "cell_type": "code",
      "metadata": {
        "id": "-w3ly96-2XdD",
        "colab": {
          "base_uri": "https://localhost:8080/"
        },
        "outputId": "da80d2ca-8186-41d0-9b4c-614e7109b9c8"
      },
      "source": [
        "len(train_labels)"
      ],
      "execution_count": null,
      "outputs": [
        {
          "output_type": "execute_result",
          "data": {
            "text/plain": [
              "60000"
            ]
          },
          "metadata": {},
          "execution_count": 5
        }
      ]
    },
    {
      "cell_type": "code",
      "metadata": {
        "id": "3rRnYg9W2Y7Z",
        "colab": {
          "base_uri": "https://localhost:8080/"
        },
        "outputId": "82da024d-fd1f-4ded-a874-deeacfe3b4a5"
      },
      "source": [
        "import matplotlib.pyplot as plt\n",
        "digit = train_images[4]\n",
        "\n",
        "plt.imshow(digit, cmap=plt.cm.binary)\n",
        "plt.show()"
      ],
      "execution_count": null,
      "outputs": [
        {
          "output_type": "display_data",
          "data": {
            "image/png": "[encoded data removed]",
            "text/plain": [
              "<Figure size 432x288 with 1 Axes>"
            ]
          },
          "metadata": {
            "needs_background": "light"
          }
        }
      ]
    },
    {
      "cell_type": "markdown",
      "metadata": {
        "id": "Y35c1QUv2fFz"
      },
      "source": [
        "## MLP (Multi-layer Perceptron)\n",
        "\n",
        "신경망의 핵심 구성 요소는 일종의 데이터 처리 필터라고 생각할 수 있는 층입니다. 어떤 데이터가 들어가면 더 유용한 형태로 출력됩니다. 조금 더 구체적으로 층은 주어진 문제에 더 의미 있는 표현을 입력된 데이터로부터 추출합니다. 대부분의 딥러닝은 간단한 층을 연결하여 구성되어 있고, 점진적으로 데이터를 정제하는 형태를 띠고 있습니다. 딥러닝 모델은 데이터 정제 필터(층)가 연속되어 있는 데이터 프로세싱을 위한 여과기와 같습니다.\n",
        "\n",
        "이 예에서는 조밀하게 연결된 (또는 완전 연결된) 신경망 층인 Dense 층 2개가 연속되어 있습니다. 두 번째 (즉, 마지막) 층은 10개의 확률 점수가 들어 있는 배열(모두 더하면 1입니다)을 반환하는 소프트맥스 층입니다. 각 점수는 현재 숫자 이미지가 10개의 숫자 클래스 중 하나에 속할 확률입니다."
      ]
    },
    {
      "cell_type": "code",
      "metadata": {
        "id": "BhUNCuz06h5L"
      },
      "source": [
        "from tensorflow.keras import models\n",
        "from tensorflow.keras import layers\n",
        "\n",
        "network = models.Sequential()\n",
        "network.add(layers.Dense(512, activation='relu', input_shape=(28 * 28,)))\n",
        "network.add(layers.Dense(10, activation='softmax'))"
      ],
      "execution_count": null,
      "outputs": []
    },
    {
      "cell_type": "code",
      "metadata": {
        "id": "-cFoAMaJ6j71"
      },
      "source": [
        "network.compile(optimizer='rmsprop',\n",
        "                loss='categorical_crossentropy',\n",
        "                metrics=['accuracy'])"
      ],
      "execution_count": null,
      "outputs": []
    },
    {
      "cell_type": "markdown",
      "metadata": {
        "id": "v8EsqFeK3gZ5"
      },
      "source": [
        "훈련을 시작하기 전에 데이터를 네트워크에 맞는 크기로 바꾸고 모든 값을 0과 1 사이로 스케일을 조정합니다. 예를 들어, 앞서 우리의 훈련 이미지는 [0, 255] 사이의 값인 uint8 타입의 (60000, 28, 28) 크기를 가진 배열로 저장되어 있습니다. 이 데이터를 0과 1 사이의 값을 가지는 float32 타입의 (60000, 28 * 28) 크기의 배열로 바꿉니다"
      ]
    },
    {
      "cell_type": "code",
      "metadata": {
        "id": "yFtsZccI6ldH"
      },
      "source": [
        "train_images = train_images.reshape((-1, 28 * 28))\n",
        "train_images = train_images.astype('float32') / 255\n",
        "\n",
        "test_images = test_images.reshape((-1, 28 * 28))\n",
        "test_images = test_images.astype('float32') / 255\n",
        "\n",
        "from tensorflow.keras.utils import to_categorical\n",
        "\n",
        "train_labels = to_categorical(train_labels)\n",
        "test_labels = to_categorical(test_labels)"
      ],
      "execution_count": null,
      "outputs": []
    },
    {
      "cell_type": "markdown",
      "metadata": {
        "id": "sscPhGJT5RaU"
      },
      "source": [
        "이제 신경망을 훈련시킬 준비가 되었습니다. 케라스에서는 fit 메서드를 호출하여 훈련 데이터에 모델을 학습시킵니다:"
      ]
    },
    {
      "cell_type": "code",
      "metadata": {
        "id": "42BQZlCF3qyT",
        "colab": {
          "base_uri": "https://localhost:8080/"
        },
        "outputId": "b28d7d9a-6a90-4484-9b78-6f2a70500b8d"
      },
      "source": [
        "h = network.fit(train_images, train_labels, epochs=10, batch_size=128, validation_split=0.2)"
      ],
      "execution_count": null,
      "outputs": [
        {
          "output_type": "stream",
          "name": "stdout",
          "text": [
            "Epoch 1/10\n",
            "375/375 [==============================] - 2s 5ms/step - loss: 0.2846 - accuracy: 0.9179 - val_loss: 0.1639 - val_accuracy: 0.9524\n",
            "Epoch 2/10\n",
            "375/375 [==============================] - 2s 5ms/step - loss: 0.1178 - accuracy: 0.9657 - val_loss: 0.1112 - val_accuracy: 0.9678\n",
            "Epoch 3/10\n",
            "375/375 [==============================] - 2s 4ms/step - loss: 0.0761 - accuracy: 0.9775 - val_loss: 0.0998 - val_accuracy: 0.9718\n",
            "Epoch 4/10\n",
            "375/375 [==============================] - 2s 4ms/step - loss: 0.0548 - accuracy: 0.9840 - val_loss: 0.0877 - val_accuracy: 0.9744\n",
            "Epoch 5/10\n",
            "375/375 [==============================] - 2s 4ms/step - loss: 0.0415 - accuracy: 0.9879 - val_loss: 0.0849 - val_accuracy: 0.9756\n",
            "Epoch 6/10\n",
            "375/375 [==============================] - 2s 4ms/step - loss: 0.0312 - accuracy: 0.9909 - val_loss: 0.0788 - val_accuracy: 0.9772\n",
            "Epoch 7/10\n",
            "375/375 [==============================] - 2s 4ms/step - loss: 0.0234 - accuracy: 0.9931 - val_loss: 0.0943 - val_accuracy: 0.9764\n",
            "Epoch 8/10\n",
            "375/375 [==============================] - 2s 4ms/step - loss: 0.0175 - accuracy: 0.9949 - val_loss: 0.0877 - val_accuracy: 0.9772\n",
            "Epoch 9/10\n",
            "375/375 [==============================] - 2s 4ms/step - loss: 0.0138 - accuracy: 0.9959 - val_loss: 0.0905 - val_accuracy: 0.9766\n",
            "Epoch 10/10\n",
            "375/375 [==============================] - 2s 4ms/step - loss: 0.0097 - accuracy: 0.9974 - val_loss: 0.0879 - val_accuracy: 0.9793\n"
          ]
        }
      ]
    },
    {
      "cell_type": "markdown",
      "metadata": {
        "id": "GgLiaUln6KRI"
      },
      "source": [
        "훈련하는 동안 두 개의 정보가 출력됩니다. 훈련 데이터에 대한 네트워크의 손실과 정확도입니다.\n",
        "\n",
        "이제 테스트 세트에서도 모델이 잘 작동하는지 확인해 보겠습니다:"
      ]
    },
    {
      "cell_type": "code",
      "metadata": {
        "id": "OzCtmNs26n06",
        "colab": {
          "base_uri": "https://localhost:8080/"
        },
        "outputId": "5d2950cc-8c2a-4dad-c0b5-15da12716c7f"
      },
      "source": [
        "test_loss, test_acc = network.evaluate(test_images, test_labels)\n",
        "\n",
        "print('test_acc:', test_acc)"
      ],
      "execution_count": null,
      "outputs": [
        {
          "output_type": "stream",
          "name": "stdout",
          "text": [
            "313/313 [==============================] - 1s 3ms/step - loss: 0.0726 - accuracy: 0.9810\n",
            "test_acc: 0.9810000061988831\n"
          ]
        }
      ]
    },
    {
      "cell_type": "code",
      "metadata": {
        "id": "OOkxnTaz6olQ"
      },
      "source": [
        "import matplotlib.pyplot as plt\n",
        "\n",
        "def plot_acc(h, title=\"accuracy\"):\n",
        "    plt.plot(h.history['accuracy'])\n",
        "    plt.plot(h.history ['val_accuracy'])\n",
        "    plt.title(title)\n",
        "    plt.ylabel('Accuracy')\n",
        "    plt.xlabel('Epoch')\n",
        "    plt.legend(['Training', 'Validation'], loc=0)\n",
        "\n",
        "def plot_loss(h, title=\"loss\"):\n",
        "    plt.plot(h.history ['loss'])\n",
        "    plt.plot(h.history ['val_loss'])\n",
        "    plt.title(title)\n",
        "    plt.ylabel('Loss')\n",
        "    plt.xlabel('Epoch')\n",
        "    plt.legend(['Training', 'Validation'], loc=0)\n"
      ],
      "execution_count": null,
      "outputs": []
    },
    {
      "cell_type": "code",
      "metadata": {
        "id": "SVMdODxx6r8y",
        "colab": {
          "base_uri": "https://localhost:8080/"
        },
        "outputId": "0fe1fe66-1d5a-4de4-ca90-6a7e9ebb98a5"
      },
      "source": [
        "plot_loss(h)\n",
        "plt.show()\n",
        "plt.clf()\n",
        "\n",
        "plot_acc(h)\n",
        "plt.show()\n",
        "plt.clf()"
      ],
      "execution_count": null,
      "outputs": [
        {
          "output_type": "display_data",
          "data": {
            "image/png": "[encoded data removed]",
            "text/plain": [
              "<Figure size 432x288 with 1 Axes>"
            ]
          },
          "metadata": {
            "needs_background": "light"
          }
        },
        {
          "output_type": "display_data",
          "data": {
            "image/png": "[encoded data removed]",
            "text/plain": [
              "<Figure size 432x288 with 1 Axes>"
            ]
          },
          "metadata": {
            "needs_background": "light"
          }
        },
        {
          "output_type": "display_data",
          "data": {
            "text/plain": [
              "<Figure size 432x288 with 0 Axes>"
            ]
          },
          "metadata": {}
        }
      ]
    },
    {
      "cell_type": "code",
      "metadata": {
        "id": "BNJ4EbPR6qVh",
        "colab": {
          "base_uri": "https://localhost:8080/"
        },
        "outputId": "b79609d4-204c-49db-9c56-d2d7f2c3bc31"
      },
      "source": [
        "h.history"
      ],
      "execution_count": null,
      "outputs": [
        {
          "output_type": "execute_result",
          "data": {
            "text/plain": [
              "{'accuracy': [0.9179166555404663,\n",
              "  0.9656875133514404,\n",
              "  0.9774583578109741,\n",
              "  0.9840208292007446,\n",
              "  0.9878749847412109,\n",
              "  0.9909166693687439,\n",
              "  0.9931250214576721,\n",
              "  0.9948541522026062,\n",
              "  0.9958750009536743,\n",
              "  0.9973958134651184],\n",
              " 'loss': [0.28456637263298035,\n",
              "  0.11778633296489716,\n",
              "  0.07610297203063965,\n",
              "  0.05478736385703087,\n",
              "  0.041512686759233475,\n",
              "  0.031173503026366234,\n",
              "  0.023365885019302368,\n",
              "  0.01751602813601494,\n",
              "  0.013816624879837036,\n",
              "  0.009702581912279129],\n",
              " 'val_accuracy': [0.9524166584014893,\n",
              "  0.9677500128746033,\n",
              "  0.971750020980835,\n",
              "  0.9744166731834412,\n",
              "  0.9755833148956299,\n",
              "  0.9772499799728394,\n",
              "  0.9764166474342346,\n",
              "  0.9772499799728394,\n",
              "  0.9765833616256714,\n",
              "  0.9793333411216736],\n",
              " 'val_loss': [0.1639309525489807,\n",
              "  0.11119372397661209,\n",
              "  0.0998026430606842,\n",
              "  0.08772820979356766,\n",
              "  0.08490806072950363,\n",
              "  0.07883016020059586,\n",
              "  0.0943208709359169,\n",
              "  0.08767436444759369,\n",
              "  0.09048254042863846,\n",
              "  0.08794283866882324]}"
            ]
          },
          "metadata": {},
          "execution_count": 14
        }
      ]
    },
    {
      "cell_type": "code",
      "metadata": {
        "id": "P8BF99u-6sL_"
      },
      "source": [
        "# saving model\n",
        "# 전체 모델을 HDF5 파일로 저장합니다\n",
        "network.save('DNN_mnist.h5') # instance variable 'network'!"
      ],
      "execution_count": null,
      "outputs": []
    },
    {
      "cell_type": "code",
      "metadata": {
        "id": "a_lqj-kI6t-z",
        "colab": {
          "base_uri": "https://localhost:8080/"
        },
        "outputId": "34a8e2a2-f21f-44c8-dae2-3eb0d7961bc2"
      },
      "source": [
        "# loading model\n",
        "model_loaded=models.load_model('DNN_mnist.h5') # not instance!\n",
        "model_loaded.summary()"
      ],
      "execution_count": null,
      "outputs": [
        {
          "output_type": "stream",
          "name": "stdout",
          "text": [
            "Model: \"sequential_1\"\n",
            "_________________________________________________________________\n",
            "Layer (type)                 Output Shape              Param #   \n",
            "=================================================================\n",
            "dense_2 (Dense)              (None, 512)               401920    \n",
            "_________________________________________________________________\n",
            "dense_3 (Dense)              (None, 10)                5130      \n",
            "=================================================================\n",
            "Total params: 407,050\n",
            "Trainable params: 407,050\n",
            "Non-trainable params: 0\n",
            "_________________________________________________________________\n"
          ]
        }
      ]
    },
    {
      "cell_type": "markdown",
      "metadata": {
        "id": "0Xv5ouzq58x6"
      },
      "source": [
        "## CNN (Convolutionl Neural Network)"
      ]
    },
    {
      "cell_type": "code",
      "metadata": {
        "id": "s7JvV_ZS6EiG"
      },
      "source": [
        "from keras import layers\n",
        "from keras import models\n",
        "\n",
        "model = models.Sequential()\n",
        "model.add(layers.Conv2D(32, (3, 3), activation='relu', input_shape=(28, 28, 1)))\n",
        "model.add(layers.MaxPooling2D((2, 2)))\n",
        "model.add(layers.Conv2D(64, (3, 3), activation='relu'))\n",
        "model.add(layers.MaxPooling2D((2, 2)))\n",
        "model.add(layers.Conv2D(64, (3, 3), activation='relu'))"
      ],
      "execution_count": null,
      "outputs": []
    },
    {
      "cell_type": "code",
      "metadata": {
        "id": "5od_bOOw6HT5",
        "colab": {
          "base_uri": "https://localhost:8080/"
        },
        "outputId": "0f65d8fc-e3a1-4ede-9827-1991eda880cd"
      },
      "source": [
        "model.summary()"
      ],
      "execution_count": null,
      "outputs": [
        {
          "output_type": "stream",
          "name": "stdout",
          "text": [
            "Model: \"sequential_2\"\n",
            "_________________________________________________________________\n",
            "Layer (type)                 Output Shape              Param #   \n",
            "=================================================================\n",
            "conv2d (Conv2D)              (None, 26, 26, 32)        320       \n",
            "_________________________________________________________________\n",
            "max_pooling2d (MaxPooling2D) (None, 13, 13, 32)        0         \n",
            "_________________________________________________________________\n",
            "conv2d_1 (Conv2D)            (None, 11, 11, 64)        18496     \n",
            "_________________________________________________________________\n",
            "max_pooling2d_1 (MaxPooling2 (None, 5, 5, 64)          0         \n",
            "_________________________________________________________________\n",
            "conv2d_2 (Conv2D)            (None, 3, 3, 64)          36928     \n",
            "=================================================================\n",
            "Total params: 55,744\n",
            "Trainable params: 55,744\n",
            "Non-trainable params: 0\n",
            "_________________________________________________________________\n"
          ]
        }
      ]
    },
    {
      "cell_type": "code",
      "metadata": {
        "id": "dQCUa_Kl6PWc"
      },
      "source": [
        "model.add(layers.Flatten())\n",
        "model.add(layers.Dense(64, activation='relu'))\n",
        "model.add(layers.Dense(10, activation='softmax'))"
      ],
      "execution_count": null,
      "outputs": []
    },
    {
      "cell_type": "code",
      "metadata": {
        "id": "1sizaaxH6RMS",
        "colab": {
          "base_uri": "https://localhost:8080/"
        },
        "outputId": "fc6d9565-880a-42ec-e631-a247e225484c"
      },
      "source": [
        "model.summary()"
      ],
      "execution_count": null,
      "outputs": [
        {
          "output_type": "stream",
          "name": "stdout",
          "text": [
            "Model: \"sequential_2\"\n",
            "_________________________________________________________________\n",
            "Layer (type)                 Output Shape              Param #   \n",
            "=================================================================\n",
            "conv2d (Conv2D)              (None, 26, 26, 32)        320       \n",
            "_________________________________________________________________\n",
            "max_pooling2d (MaxPooling2D) (None, 13, 13, 32)        0         \n",
            "_________________________________________________________________\n",
            "conv2d_1 (Conv2D)            (None, 11, 11, 64)        18496     \n",
            "_________________________________________________________________\n",
            "max_pooling2d_1 (MaxPooling2 (None, 5, 5, 64)          0         \n",
            "_________________________________________________________________\n",
            "conv2d_2 (Conv2D)            (None, 3, 3, 64)          36928     \n",
            "_________________________________________________________________\n",
            "flatten (Flatten)            (None, 576)               0         \n",
            "_________________________________________________________________\n",
            "dense_4 (Dense)              (None, 64)                36928     \n",
            "_________________________________________________________________\n",
            "dense_5 (Dense)              (None, 10)                650       \n",
            "=================================================================\n",
            "Total params: 93,322\n",
            "Trainable params: 93,322\n",
            "Non-trainable params: 0\n",
            "_________________________________________________________________\n"
          ]
        }
      ]
    },
    {
      "cell_type": "code",
      "metadata": {
        "id": "-lStBp-T6TaQ",
        "colab": {
          "base_uri": "https://localhost:8080/",
          "height": 388
        },
        "outputId": "e97c0023-c3df-4078-bbba-e924c707968c"
      },
      "source": [
        "from keras.datasets import mnist\n",
        "from keras.utils import to_categorical\n",
        "\n",
        "(train_images, train_labels), (test_images, test_labels) = mnist.load_data()\n",
        "\n",
        "train_images = train_images.reshape((60000, 28, 28, 1))\n",
        "train_images = train_images.astype('float32') / 255\n",
        "\n",
        "test_images = test_images.reshape((10000, 28, 28, 1))\n",
        "test_images = test_images.astype('float32') / 255\n",
        "\n",
        "train_labels = to_categorical(train_labels)\n",
        "test_labels = to_categorical(test_labels)"
      ],
      "execution_count": null,
      "outputs": [
        {
          "output_type": "error",
          "ename": "ImportError",
          "evalue": "ignored",
          "traceback": [
            "\u001b[0;31m---------------------------------------------------------------------------\u001b[0m",
            "\u001b[0;31mImportError\u001b[0m                               Traceback (most recent call last)",
            "\u001b[0;32m<ipython-input-21-5cb0826ee138>\u001b[0m in \u001b[0;36m<module>\u001b[0;34m()\u001b[0m\n\u001b[1;32m      1\u001b[0m \u001b[0;32mfrom\u001b[0m \u001b[0mkeras\u001b[0m\u001b[0;34m.\u001b[0m\u001b[0mdatasets\u001b[0m \u001b[0;32mimport\u001b[0m \u001b[0mmnist\u001b[0m\u001b[0;34m\u001b[0m\u001b[0;34m\u001b[0m\u001b[0m\n\u001b[0;32m----> 2\u001b[0;31m \u001b[0;32mfrom\u001b[0m \u001b[0mkeras\u001b[0m\u001b[0;34m.\u001b[0m\u001b[0mutils\u001b[0m \u001b[0;32mimport\u001b[0m \u001b[0mto_categorical\u001b[0m\u001b[0;34m\u001b[0m\u001b[0;34m\u001b[0m\u001b[0m\n\u001b[0m\u001b[1;32m      3\u001b[0m \u001b[0;34m\u001b[0m\u001b[0m\n\u001b[1;32m      4\u001b[0m \u001b[0;34m(\u001b[0m\u001b[0mtrain_images\u001b[0m\u001b[0;34m,\u001b[0m \u001b[0mtrain_labels\u001b[0m\u001b[0;34m)\u001b[0m\u001b[0;34m,\u001b[0m \u001b[0;34m(\u001b[0m\u001b[0mtest_images\u001b[0m\u001b[0;34m,\u001b[0m \u001b[0mtest_labels\u001b[0m\u001b[0;34m)\u001b[0m \u001b[0;34m=\u001b[0m \u001b[0mmnist\u001b[0m\u001b[0;34m.\u001b[0m\u001b[0mload_data\u001b[0m\u001b[0;34m(\u001b[0m\u001b[0;34m)\u001b[0m\u001b[0;34m\u001b[0m\u001b[0;34m\u001b[0m\u001b[0m\n\u001b[1;32m      5\u001b[0m \u001b[0;34m\u001b[0m\u001b[0m\n",
            "\u001b[0;31mImportError\u001b[0m: cannot import name 'to_categorical' from 'keras.utils' (/usr/local/lib/python3.7/dist-packages/keras/utils/__init__.py)",
            "",
            "\u001b[0;31m---------------------------------------------------------------------------\u001b[0;32m\nNOTE: If your import is failing due to a missing package, you can\nmanually install dependencies using either !pip or !apt.\n\nTo view examples of installing some common dependencies, click the\n\"Open Examples\" button below.\n\u001b[0;31m---------------------------------------------------------------------------\u001b[0m\n"
          ],
          "errorDetails": {
            "actions": [
              {
                "action": "open_url",
                "actionText": "Open Examples",
                "url": "/notebooks/snippets/importing_libraries.ipynb"
              }
            ]
          }
        }
      ]
    },
    {
      "cell_type": "code",
      "metadata": {
        "id": "08PupCQc6V0r"
      },
      "source": [
        "model.compile(optimizer='rmsprop',\n",
        "              loss='categorical_crossentropy',\n",
        "              metrics=['accuracy'])\n",
        "\n",
        "model.fit(train_images, train_labels, epochs=5, batch_size=64)"
      ],
      "execution_count": null,
      "outputs": []
    },
    {
      "cell_type": "markdown",
      "metadata": {
        "id": "t9lYr_Wf6Y2g"
      },
      "source": [
        "테스트 데이터에서 모델을 평가해 보죠:"
      ]
    },
    {
      "cell_type": "code",
      "metadata": {
        "id": "g-S_EZko6d8B"
      },
      "source": [
        "test_loss, test_acc = model.evaluate(test_images, test_labels)"
      ],
      "execution_count": null,
      "outputs": []
    },
    {
      "cell_type": "code",
      "metadata": {
        "id": "IvZFVFW8TOKc"
      },
      "source": [
        ""
      ],
      "execution_count": null,
      "outputs": []
    },
    {
      "cell_type": "code",
      "metadata": {
        "id": "CZPLvDZy03k7"
      },
      "source": [
        "\t\n",
        "x=[1, 2, ['a', 'b'], [100]]\n",
        "\n",
        "str(x)"
      ],
      "execution_count": null,
      "outputs": []
    },
    {
      "cell_type": "code",
      "metadata": {
        "id": "VeN0AbKr1ZPf"
      },
      "source": [
        "\t\n",
        "a = [1,2,['a','b'],[100]]\n",
        "\n",
        "\n",
        "print('[',a,']')\n"
      ],
      "execution_count": null,
      "outputs": []
    },
    {
      "cell_type": "code",
      "metadata": {
        "id": "DFR_1G_n1vJc"
      },
      "source": [
        "stu03 = [ \"Yoshua Bengio\" ,  92 ,  88 ,  84 ]\t\n",
        "\t\n",
        "\t\n",
        "print(stu03[0].split(sep='  ')[1])\n"
      ],
      "execution_count": null,
      "outputs": []
    },
    {
      "cell_type": "code",
      "metadata": {
        "id": "9HLj_BzM2YTp"
      },
      "source": [
        "numbers = [ 97 ,  45 ,  78 ,  23 ,  67 , 98 , 100 , 96 ,  79 , 59 ]\n",
        "\n",
        "print (numbers[ 2 : 6 ])"
      ],
      "execution_count": null,
      "outputs": []
    },
    {
      "cell_type": "code",
      "metadata": {
        "id": "kttYrH9J2izM"
      },
      "source": [
        "\t\n",
        "\t\n",
        "stars = ''\n",
        "\n",
        "for i in range(5):\n",
        "\n",
        "    stars+='*'\n",
        "\n",
        "\n",
        "print(stars,stars)"
      ],
      "execution_count": null,
      "outputs": []
    }
  ]
}