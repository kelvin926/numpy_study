{
  "cells": [
    {
      "cell_type": "markdown",
      "metadata": {
        "id": "J_FfQuu2Tb30"
      },
      "source": [
        "# NumPy"
      ]
    },
    {
      "cell_type": "markdown",
      "metadata": {
        "id": "Zgrrh9T2vs8u"
      },
      "source": [
        "\n",
        "\n",
        "---\n",
        "\n"
      ]
    },
    {
      "cell_type": "markdown",
      "metadata": {
        "id": "oR5hNBH-Retd"
      },
      "source": [
        "## NumPy 특징\n",
        "\n",
        "* Numerical Python의 약자\n",
        "* 고성능 과학 계산용 패키지로 강력한 N차원 배열 객체\n",
        "* 범용적 데이터 처리에 사용 가능한 다차원 컨테이너\n",
        "* 정교한 브로드캐스팅(broadcasting) 기능\n",
        "* 파이썬의 자료형 list와 비슷하지만, 더 빠르고 메모리를 효율적으로 관리\n",
        "* 반복문 없이 데이터 배열에 대한 처리를 지원하여 빠르고 편리\n",
        "* 데이터 과학 도구에 대한 생태계의 핵심을 이루고 있음"
      ]
    },
    {
      "cell_type": "code",
      "execution_count": 253,
      "metadata": {
        "id": "R9klTdhLQ564"
      },
      "outputs": [
        {
          "name": "stdout",
          "output_type": "stream",
          "text": [
            "1.19.5\n"
          ]
        }
      ],
      "source": [
        "import numpy as np\n",
        "print(np.__version__)"
      ]
    },
    {
      "cell_type": "markdown",
      "metadata": {
        "id": "2hSWC5ptGyWP"
      },
      "source": [
        "\n",
        "\n",
        "---\n",
        "\n"
      ]
    },
    {
      "cell_type": "markdown",
      "metadata": {
        "id": "1kgkJZFlVUqk"
      },
      "source": [
        "## 배열 생성"
      ]
    },
    {
      "cell_type": "markdown",
      "metadata": {
        "id": "5eQ4sAkMbzm0"
      },
      "source": [
        "### 리스트로 배열 만들기\n"
      ]
    },
    {
      "cell_type": "code",
      "execution_count": 254,
      "metadata": {
        "id": "Mtod2jcPWVvV"
      },
      "outputs": [
        {
          "name": "stdout",
          "output_type": "stream",
          "text": [
            "[1 2 3 4 5]\n",
            "<class 'numpy.ndarray'>\n",
            "(5,)\n",
            "1 2 3 4 5\n",
            "[4 2 3 4 5]\n"
          ]
        }
      ],
      "source": [
        "a1 = np.array([1, 2, 3, 4, 5])\n",
        "print(a1)\n",
        "print(type(a1))\n",
        "print(a1.shape)\n",
        "print(a1[0], a1[1], a1[2], a1[3], a1[4])\n",
        "a1[0] = 4\n",
        "print(a1)"
      ]
    },
    {
      "cell_type": "code",
      "execution_count": 255,
      "metadata": {
        "id": "vp9tkHH8esXT"
      },
      "outputs": [
        {
          "name": "stdout",
          "output_type": "stream",
          "text": [
            "[[1 2 3]\n",
            " [4 5 6]\n",
            " [7 8 9]]\n",
            "(3, 3)\n",
            "1 9\n"
          ]
        }
      ],
      "source": [
        "a2 = np.array([ [1, 2, 3], [4, 5, 6], [7, 8, 9] ])\n",
        "print(a2)\n",
        "print(a2.shape)\n",
        "print(a2[0, 0], a2[2, 2])"
      ]
    },
    {
      "cell_type": "code",
      "execution_count": 256,
      "metadata": {
        "id": "Baj4gZ2meuJu"
      },
      "outputs": [
        {
          "name": "stdout",
          "output_type": "stream",
          "text": [
            "[[[ 1  2  3]\n",
            "  [ 4  5  6]]\n",
            "\n",
            " [[ 7  8  9]\n",
            "  [10 11 12]]\n",
            "\n",
            " [[13 14 15]\n",
            "  [16 17 18]]]\n",
            "5\n",
            "(3, 2, 3)\n"
          ]
        }
      ],
      "source": [
        "a3 = np.array([ [ [1,2,3], [4,5,6] ],\n",
        "               [ [7, 8, 9], [10, 11, 12] ],\n",
        "               [ [13, 14, 15], [16, 17, 18]]])\n",
        "print(a3)\n",
        "print(a3[0,1,1])\n",
        "print(a3.shape)"
      ]
    },
    {
      "cell_type": "markdown",
      "metadata": {
        "id": "PNkKtw4CoSDB"
      },
      "source": [
        "### 배열 생성 및 초기화"
      ]
    },
    {
      "cell_type": "markdown",
      "metadata": {
        "id": "mJVii5p_VfgM"
      },
      "source": [
        "* `zeros()`: 모든 요소를 0으로 초기화"
      ]
    },
    {
      "cell_type": "code",
      "execution_count": 257,
      "metadata": {
        "id": "W_SF1tVoVTf1"
      },
      "outputs": [
        {
          "name": "stdout",
          "output_type": "stream",
          "text": [
            "[0. 0. 0. 0. 0. 0. 0. 0. 0. 0.]\n"
          ]
        }
      ],
      "source": [
        "a4 = np.zeros(10)\n",
        "print(a4)"
      ]
    },
    {
      "cell_type": "markdown",
      "metadata": {
        "id": "LjYFQrODVqhX"
      },
      "source": [
        "* `ones()`: 모든 요소를 1로 초기화"
      ]
    },
    {
      "cell_type": "code",
      "execution_count": 258,
      "metadata": {
        "id": "MURoqsMsVeUw"
      },
      "outputs": [
        {
          "name": "stdout",
          "output_type": "stream",
          "text": [
            "[1. 1. 1. 1. 1. 1. 1. 1. 1. 1.]\n",
            "\n",
            "\n",
            "[[1. 1. 1. 1.]\n",
            " [1. 1. 1. 1.]\n",
            " [1. 1. 1. 1.]]\n"
          ]
        }
      ],
      "source": [
        "a5 = np.ones(10)\n",
        "print(a5)\n",
        "print('\\n')\n",
        "a6 = np.ones((3, 4)) #행,렬\n",
        "print(a6)"
      ]
    },
    {
      "cell_type": "markdown",
      "metadata": {
        "id": "jnmm3Cj-cGtx"
      },
      "source": [
        "* `full()`: 모든 요소를 지정한 값으로 초기화"
      ]
    },
    {
      "cell_type": "code",
      "execution_count": 259,
      "metadata": {
        "id": "oscabrdcV7Ny"
      },
      "outputs": [
        {
          "name": "stdout",
          "output_type": "stream",
          "text": [
            "[[3.14 3.14 3.14]\n",
            " [3.14 3.14 3.14]\n",
            " [3.14 3.14 3.14]]\n"
          ]
        }
      ],
      "source": [
        "a7 = np.full((3,3), 3.14)\n",
        "print(a7)"
      ]
    },
    {
      "cell_type": "markdown",
      "metadata": {
        "id": "0SRI4jbmlIKc"
      },
      "source": [
        "* `eye()`: 단위행렬(identity matrix) 생성\n",
        "  + 주대각선의 원소가 모두 1이고 나머지 원소는 모두 0인 정사각 행렬"
      ]
    },
    {
      "cell_type": "code",
      "execution_count": 260,
      "metadata": {
        "id": "VceBVLLjk9o5"
      },
      "outputs": [
        {
          "name": "stdout",
          "output_type": "stream",
          "text": [
            "[[1. 0. 0.]\n",
            " [0. 1. 0.]\n",
            " [0. 0. 1.]]\n"
          ]
        }
      ],
      "source": [
        "a8 = np.eye(3) #단위 행렬 = 곱해도 같은 값이 나옴.\n",
        "print(a8)"
      ]
    },
    {
      "cell_type": "markdown",
      "metadata": {
        "id": "7CCH1ZMT5R02"
      },
      "source": [
        "* `tri()`: 삼각행렬 생성"
      ]
    },
    {
      "cell_type": "code",
      "execution_count": 261,
      "metadata": {
        "id": "mLe2Bhj05VYu"
      },
      "outputs": [
        {
          "name": "stdout",
          "output_type": "stream",
          "text": [
            "[[1. 0. 0.]\n",
            " [1. 1. 0.]\n",
            " [1. 1. 1.]]\n"
          ]
        }
      ],
      "source": [
        "a9 = np.tri(3) #삼각 행렬\n",
        "print(a9)"
      ]
    },
    {
      "cell_type": "markdown",
      "metadata": {
        "id": "ObZRA4HclZlO"
      },
      "source": [
        "* `empty()`: 초기화되지 않은 배열 생성\n",
        "  + 초기화가 없어서 배열 생성비용 저렴하고 빠름\n",
        "  + 초기화되지 않아서 기존 메모리 위치에 존재하는 값이 있음"
      ]
    },
    {
      "cell_type": "code",
      "execution_count": 262,
      "metadata": {
        "id": "I3SoFgiglAkz"
      },
      "outputs": [
        {
          "name": "stdout",
          "output_type": "stream",
          "text": [
            "[1. 1. 1. 1. 1. 1. 1. 1. 1. 1.]\n"
          ]
        }
      ],
      "source": [
        "b1 = np.empty(10) #초기화 하지 않은 배열 생성 - 기존 메모리 위치에 존재하는 값이 있음.\n",
        "print(b1)"
      ]
    },
    {
      "cell_type": "markdown",
      "metadata": {
        "id": "p3uSl1Ccmi5_"
      },
      "source": [
        "* `_like()`: 지정된 배열과 shape가 같은 행렬 생성\n",
        "  + `np.zeros_like()`\n",
        "  + `np.ones_like()`\n",
        "  + `np.full_like()`\n",
        "  + `np.empty_like()`"
      ]
    },
    {
      "cell_type": "code",
      "execution_count": 263,
      "metadata": {
        "id": "Ad5RskRRlZLs"
      },
      "outputs": [
        {
          "name": "stdout",
          "output_type": "stream",
          "text": [
            "[[[0 0 0]\n",
            "  [0 0 0]]\n",
            "\n",
            " [[0 0 0]\n",
            "  [0 0 0]]\n",
            "\n",
            " [[0 0 0]\n",
            "  [0 0 0]]]\n"
          ]
        }
      ],
      "source": [
        "b2 = np.zeros_like(a3) #shape따기\n",
        "print(b2)"
      ]
    },
    {
      "cell_type": "code",
      "execution_count": 264,
      "metadata": {
        "id": "KChUHsG003Nf"
      },
      "outputs": [
        {
          "name": "stdout",
          "output_type": "stream",
          "text": [
            "[[[1 1 1]\n",
            "  [1 1 1]]\n",
            "\n",
            " [[1 1 1]\n",
            "  [1 1 1]]\n",
            "\n",
            " [[1 1 1]\n",
            "  [1 1 1]]]\n"
          ]
        }
      ],
      "source": [
        "b3 = np.ones_like(a3) #shape따고 1 넣기\n",
        "print(b3)"
      ]
    },
    {
      "cell_type": "code",
      "execution_count": 265,
      "metadata": {
        "id": "PUnDz6b305Gg"
      },
      "outputs": [
        {
          "name": "stdout",
          "output_type": "stream",
          "text": [
            "[[[10 10 10]\n",
            "  [10 10 10]]\n",
            "\n",
            " [[10 10 10]\n",
            "  [10 10 10]]\n",
            "\n",
            " [[10 10 10]\n",
            "  [10 10 10]]]\n"
          ]
        }
      ],
      "source": [
        "b4 = np.full_like(a3, 10) #shape따고 입력값 풀로.\n",
        "print(b4)"
      ]
    },
    {
      "cell_type": "markdown",
      "metadata": {
        "id": "apoksGJNrn1z"
      },
      "source": [
        "### 생성한 값으로 배열 생성"
      ]
    },
    {
      "cell_type": "markdown",
      "metadata": {
        "id": "H3nmLct8cnV8"
      },
      "source": [
        "* `arange()`: 정수 범위로 배열 생성"
      ]
    },
    {
      "cell_type": "code",
      "execution_count": 266,
      "metadata": {
        "id": "mANy4WY4cDKa"
      },
      "outputs": [
        {
          "name": "stdout",
          "output_type": "stream",
          "text": [
            "[ 0  2  4  6  8 10 12 14 16 18 20 22 24 26 28]\n"
          ]
        }
      ],
      "source": [
        "b5 = np.arange(0, 30, 2) #정수 범위로 배열 생성\n",
        "print(b5)"
      ]
    },
    {
      "cell_type": "markdown",
      "metadata": {
        "id": "s5kET1e6itlo"
      },
      "source": [
        "* `linspace()`: 범위 내에서 균등 간격의 배열 생성"
      ]
    },
    {
      "cell_type": "code",
      "execution_count": 267,
      "metadata": {
        "id": "u4q9gI7Zcltz"
      },
      "outputs": [
        {
          "name": "stdout",
          "output_type": "stream",
          "text": [
            "[0.   0.25 0.5  0.75 1.  ]\n"
          ]
        }
      ],
      "source": [
        "b6 = np.linspace(0, 1, 5) #범위 내에서 균등 간격의 배열 생성\n",
        "print(b6)"
      ]
    },
    {
      "cell_type": "markdown",
      "metadata": {
        "id": "Eq26d7T3nnAH"
      },
      "source": [
        "* `logspace()`: 범위 내에서 균등간격으로 로그 스케일로 배열 생성"
      ]
    },
    {
      "cell_type": "code",
      "execution_count": 268,
      "metadata": {
        "id": "-O29WBVEnyXX"
      },
      "outputs": [
        {
          "name": "stdout",
          "output_type": "stream",
          "text": [
            "[ 1.25892541  1.40400425  1.565802    1.74624535  1.94748304  2.1719114\n",
            "  2.42220294  2.70133812  3.0126409   3.35981829  3.74700446  4.17881006\n",
            "  4.66037703  5.19743987  5.79639395  6.46437163  7.2093272   8.04013161\n",
            "  8.9666781  10.        ]\n"
          ]
        }
      ],
      "source": [
        "b7 = np.logspace(0.1, 1, 20)\n",
        "print(b7)"
      ]
    },
    {
      "cell_type": "markdown",
      "metadata": {
        "id": "6_88s4_Jr7fO"
      },
      "source": [
        "### 랜덤값으로 배열 생성\n"
      ]
    },
    {
      "cell_type": "markdown",
      "metadata": {
        "id": "CoK1cVUkjNMg"
      },
      "source": [
        "* `random.random()`: 랜덤한 수의 배열 생성"
      ]
    },
    {
      "cell_type": "code",
      "execution_count": 269,
      "metadata": {
        "id": "qJwccKEnjMze"
      },
      "outputs": [
        {
          "name": "stdout",
          "output_type": "stream",
          "text": [
            "[[0.34098829 0.69405477 0.10224841]\n",
            " [0.81349399 0.59803257 0.83913946]\n",
            " [0.32688203 0.43039388 0.03973888]]\n"
          ]
        }
      ],
      "source": [
        "b8 = np.random.random((3, 3))\n",
        "print(b8)"
      ]
    },
    {
      "cell_type": "markdown",
      "metadata": {
        "id": "BYsAVwA1kvDI"
      },
      "source": [
        "* `random.randint()`: 일정 구간의 랜덤 정수의 배열 생성"
      ]
    },
    {
      "cell_type": "code",
      "execution_count": 270,
      "metadata": {
        "id": "oR-UszZ_jqfQ"
      },
      "outputs": [
        {
          "name": "stdout",
          "output_type": "stream",
          "text": [
            "[[1 3 6]\n",
            " [6 2 2]\n",
            " [6 7 5]]\n"
          ]
        }
      ],
      "source": [
        "b9 = np.random.randint(0, 10, (3, 3)) #Int형.\n",
        "print(b9)"
      ]
    },
    {
      "cell_type": "markdown",
      "metadata": {
        "id": "2r557WHsjrL3"
      },
      "source": [
        "* `random.normal()`: 정규분포(normal distribution)를 고려한 랜덤한 수의 배열 생성\n",
        "* 평균=0, 표준편차=1, 3 x 3 배열"
      ]
    },
    {
      "cell_type": "code",
      "execution_count": 271,
      "metadata": {
        "id": "Oan3bSpHi2Wq"
      },
      "outputs": [
        {
          "name": "stdout",
          "output_type": "stream",
          "text": [
            "[[ 0.63046133  0.78451455 -0.35751494]\n",
            " [-1.4566161   0.93300371  0.14452071]\n",
            " [ 1.06651806 -1.18910049  0.59940713]]\n"
          ]
        }
      ],
      "source": [
        "c1 = np.random.normal(0, 1, (3, 3)) #정규분포를 고려함. (평균:0, 표편:1, 3x3배열)\n",
        "print(c1)"
      ]
    },
    {
      "cell_type": "markdown",
      "metadata": {
        "id": "fPO-D1rHsrFw"
      },
      "source": [
        "* `random.rand()`: 균등분포(uniform distribution)를 고려한 랜덤한 수의 배열 생성"
      ]
    },
    {
      "cell_type": "code",
      "execution_count": 272,
      "metadata": {
        "id": "DxiyEjnXnDUT"
      },
      "outputs": [
        {
          "name": "stdout",
          "output_type": "stream",
          "text": [
            "[[0.24717797 0.30661629 0.58197795]\n",
            " [0.77645781 0.00842951 0.98334363]\n",
            " [0.31536337 0.84474797 0.94137393]]\n"
          ]
        }
      ],
      "source": [
        "c2 = np.random.rand(3, 3)\n",
        "print(c2)"
      ]
    },
    {
      "cell_type": "markdown",
      "metadata": {
        "id": "IegH2dsPLQgd"
      },
      "source": [
        "* `random.randn()`: 표준 정규 분포(standard normal distribution)를 고려한 랜덤한 수의 배열 생성"
      ]
    },
    {
      "cell_type": "code",
      "execution_count": 273,
      "metadata": {
        "id": "V61VHa-JLIma"
      },
      "outputs": [
        {
          "name": "stdout",
          "output_type": "stream",
          "text": [
            "[[-0.27133265  1.43020304 -0.30582488]\n",
            " [-0.49204401  0.16474146 -0.59626027]\n",
            " [-0.74510354  0.0409171   0.298056  ]]\n"
          ]
        }
      ],
      "source": [
        "c3 = np.random.randn(3, 3)\n",
        "print(c3)"
      ]
    },
    {
      "cell_type": "markdown",
      "metadata": {
        "id": "5ts0cYLQL_pT"
      },
      "source": [
        "### 표준 데이터 타입"
      ]
    },
    {
      "cell_type": "code",
      "execution_count": 274,
      "metadata": {
        "id": "rxqTqAFKL73y"
      },
      "outputs": [
        {
          "data": {
            "text/plain": "array([0, 0, 0, 0, 0, 0, 0, 0, 0, 0, 0, 0, 0, 0, 0, 0, 0, 0, 0, 0])"
          },
          "execution_count": 274,
          "metadata": {},
          "output_type": "execute_result"
        }
      ],
      "source": [
        "np.zeros(20, dtype=int)"
      ]
    },
    {
      "cell_type": "code",
      "execution_count": 275,
      "metadata": {
        "id": "o9TuSl6HIsXr"
      },
      "outputs": [
        {
          "data": {
            "text/plain": "array([[ True,  True,  True],\n       [ True,  True,  True],\n       [ True,  True,  True]])"
          },
          "execution_count": 275,
          "metadata": {},
          "output_type": "execute_result"
        }
      ],
      "source": [
        "np.ones((3, 3), dtype=bool)"
      ]
    },
    {
      "cell_type": "code",
      "execution_count": 276,
      "metadata": {
        "id": "w-TciNfzEhY0"
      },
      "outputs": [
        {
          "data": {
            "text/plain": "array([[1., 1., 1.],\n       [1., 1., 1.],\n       [1., 1., 1.]])"
          },
          "execution_count": 276,
          "metadata": {},
          "output_type": "execute_result"
        }
      ],
      "source": [
        "np.full((3, 3), 1.0, dtype=float)"
      ]
    },
    {
      "cell_type": "markdown",
      "metadata": {
        "id": "1qFumu-p-0mQ"
      },
      "source": [
        "### 날짜/시간 배열 생성\n"
      ]
    },
    {
      "cell_type": "code",
      "execution_count": 277,
      "metadata": {
        "id": "D8ozvTUf-6Rr"
      },
      "outputs": [
        {
          "data": {
            "text/plain": "array('2020-01-01', dtype='datetime64[D]')"
          },
          "execution_count": 277,
          "metadata": {},
          "output_type": "execute_result"
        }
      ],
      "source": [
        "date = np.array('2020-01-01', dtype=np.datetime64)\n",
        "date"
      ]
    },
    {
      "cell_type": "code",
      "execution_count": 278,
      "metadata": {
        "id": "XIjLUkn6_K3J"
      },
      "outputs": [
        {
          "data": {
            "text/plain": "array(['2020-01-01', '2020-01-02', '2020-01-03', '2020-01-04',\n       '2020-01-05', '2020-01-06', '2020-01-07', '2020-01-08',\n       '2020-01-09', '2020-01-10', '2020-01-11', '2020-01-12'],\n      dtype='datetime64[D]')"
          },
          "execution_count": 278,
          "metadata": {},
          "output_type": "execute_result"
        }
      ],
      "source": [
        "date + np.arange(12)"
      ]
    },
    {
      "cell_type": "code",
      "execution_count": 279,
      "metadata": {
        "id": "EO7yE5VR_Wlh"
      },
      "outputs": [
        {
          "data": {
            "text/plain": "numpy.datetime64('2020-06-01T12:00')"
          },
          "execution_count": 279,
          "metadata": {},
          "output_type": "execute_result"
        }
      ],
      "source": [
        "datetime = np.datetime64('2020-06-01 12:00')\n",
        "datetime"
      ]
    },
    {
      "cell_type": "code",
      "execution_count": 280,
      "metadata": {
        "id": "3dnOlf9i_kzX"
      },
      "outputs": [
        {
          "data": {
            "text/plain": "numpy.datetime64('2020-06-01T12:00:12.340000000')"
          },
          "execution_count": 280,
          "metadata": {},
          "output_type": "execute_result"
        }
      ],
      "source": [
        "datetime = np.datetime64('2020-06-01 12:00:12.34', 'ns')\n",
        "datetime"
      ]
    },
    {
      "cell_type": "markdown",
      "metadata": {
        "id": "5AREIamhGxAr"
      },
      "source": [
        "\n",
        "\n",
        "---\n",
        "\n"
      ]
    },
    {
      "cell_type": "markdown",
      "metadata": {
        "id": "d88tkTqbBE5V"
      },
      "source": [
        "## 배열 조회"
      ]
    },
    {
      "cell_type": "markdown",
      "metadata": {
        "id": "vRqwfbjtFnPn"
      },
      "source": [
        "### 배열 속성 정보"
      ]
    },
    {
      "cell_type": "code",
      "execution_count": 281,
      "metadata": {
        "id": "R5Rlcll7GXrM"
      },
      "outputs": [],
      "source": [
        "def array_info(array):\n",
        "    print(array)\n",
        "    print(\"ndim(차원):\", array.ndim) #차원\n",
        "    print(\"shape(모양):\", array.shape) #모양\n",
        "    print(\"dtype(데이터타입):\", array.dtype) #데이터 타입\n",
        "    print(\"size(수량):\", array.size) #사이즈 (\"수량\")\n",
        "    print(\"itemsize(아이템사이즈):\", array.itemsize) #각 하나의 아이템이 갖는 크기 (바이트)\n",
        "    print(\"nbytes(전체사이즈):\", array.nbytes) #전체 바이트 (아이템 사이즈 x 수량)\n",
        "    print(\"strides(다음으로의 사이즈):\", array.strides) #다음(차원)으로 넘어가기 위해 필요한 사이즈. ex) a[1]에서 a[2]로 넘어가려면 int기준 8바이트가 필요하다."
      ]
    },
    {
      "cell_type": "code",
      "execution_count": 282,
      "metadata": {
        "id": "Na59LwA7KXZV"
      },
      "outputs": [
        {
          "name": "stdout",
          "output_type": "stream",
          "text": [
            "[4 2 3 4 5]\n",
            "ndim(차원): 1\n",
            "shape(모양): (5,)\n",
            "dtype(데이터타입): int64\n",
            "size(수량): 5\n",
            "itemsize(아이템사이즈): 8\n",
            "nbytes(전체사이즈): 40\n",
            "strides(다음으로의 사이즈): (8,)\n"
          ]
        }
      ],
      "source": [
        "array_info(a1) #1차원 배열"
      ]
    },
    {
      "cell_type": "code",
      "execution_count": 283,
      "metadata": {
        "id": "Urzr_LsdLah0"
      },
      "outputs": [
        {
          "name": "stdout",
          "output_type": "stream",
          "text": [
            "[[1 2 3]\n",
            " [4 5 6]\n",
            " [7 8 9]]\n",
            "ndim(차원): 2\n",
            "shape(모양): (3, 3)\n",
            "dtype(데이터타입): int64\n",
            "size(수량): 9\n",
            "itemsize(아이템사이즈): 8\n",
            "nbytes(전체사이즈): 72\n",
            "strides(다음으로의 사이즈): (24, 8)\n"
          ]
        }
      ],
      "source": [
        "array_info(a2) #2차원"
      ]
    },
    {
      "cell_type": "code",
      "execution_count": 284,
      "metadata": {
        "id": "jktqh1lsLf4V"
      },
      "outputs": [
        {
          "name": "stdout",
          "output_type": "stream",
          "text": [
            "[[[ 1  2  3]\n",
            "  [ 4  5  6]]\n",
            "\n",
            " [[ 7  8  9]\n",
            "  [10 11 12]]\n",
            "\n",
            " [[13 14 15]\n",
            "  [16 17 18]]]\n",
            "ndim(차원): 3\n",
            "shape(모양): (3, 2, 3)\n",
            "dtype(데이터타입): int64\n",
            "size(수량): 18\n",
            "itemsize(아이템사이즈): 8\n",
            "nbytes(전체사이즈): 144\n",
            "strides(다음으로의 사이즈): (48, 24, 8)\n"
          ]
        }
      ],
      "source": [
        "array_info(a3) #3차원"
      ]
    },
    {
      "cell_type": "markdown",
      "metadata": {
        "id": "LV1WfdBWFqDu"
      },
      "source": [
        "### 인덱싱(Indexing)"
      ]
    },
    {
      "cell_type": "code",
      "execution_count": 285,
      "metadata": {
        "id": "Nyb7eDmGFr5m"
      },
      "outputs": [
        {
          "name": "stdout",
          "output_type": "stream",
          "text": [
            "[4 2 3 4 5]\n",
            "4\n",
            "3\n",
            "5\n",
            "4\n"
          ]
        }
      ],
      "source": [
        "print(a1)\n",
        "print(a1[0])\n",
        "print(a1[2])\n",
        "print(a1[-1])\n",
        "print(a1[-2])"
      ]
    },
    {
      "cell_type": "code",
      "execution_count": 286,
      "metadata": {
        "id": "uHMNcQW3Kn-h"
      },
      "outputs": [
        {
          "name": "stdout",
          "output_type": "stream",
          "text": [
            "[[1 2 3]\n",
            " [4 5 6]\n",
            " [7 8 9]]\n",
            "1\n",
            "3\n",
            "5\n",
            "9\n"
          ]
        }
      ],
      "source": [
        "print(a2)\n",
        "print(a2[0, 0])\n",
        "print(a2[0, 2])\n",
        "print(a2[1, 1])\n",
        "print(a2[2, -1])"
      ]
    },
    {
      "cell_type": "code",
      "execution_count": 287,
      "metadata": {
        "id": "IX5yDMGiMxYZ"
      },
      "outputs": [
        {
          "name": "stdout",
          "output_type": "stream",
          "text": [
            "[[[ 1  2  3]\n",
            "  [ 4  5  6]]\n",
            "\n",
            " [[ 7  8  9]\n",
            "  [10 11 12]]\n",
            "\n",
            " [[13 14 15]\n",
            "  [16 17 18]]]\n",
            "1\n",
            "11\n",
            "10\n",
            "12\n"
          ]
        }
      ],
      "source": [
        "print(a3)\n",
        "print(a3[0, 0, 0])\n",
        "print(a3[1, 1, 1])\n",
        "print(a3[1, 1, 0])\n",
        "print(a3[1, -1, -1])"
      ]
    },
    {
      "cell_type": "markdown",
      "metadata": {
        "id": "uSeXu2y_O4cu"
      },
      "source": [
        "### 슬라이싱(Slicing)"
      ]
    },
    {
      "cell_type": "markdown",
      "metadata": {
        "id": "1hikO_6ZPp5m"
      },
      "source": [
        "* 슬라이싱 구문: `a[start:stop:step]`\n",
        "* 기본값: start=0, stop=ndim, step=1"
      ]
    },
    {
      "cell_type": "code",
      "execution_count": 288,
      "metadata": {
        "id": "PYZOOCoVO7BF"
      },
      "outputs": [
        {
          "name": "stdout",
          "output_type": "stream",
          "text": [
            "[4 2 3 4 5]\n",
            "[4 2]\n",
            "[4 2 3 4 5]\n",
            "[4]\n",
            "[4 3 5]\n",
            "[5 4 3 2 4]\n"
          ]
        }
      ],
      "source": [
        "print(a1)\n",
        "print(a1[0:2])\n",
        "print(a1[0:])\n",
        "print(a1[:1])\n",
        "print(a1[::2])\n",
        "print(a1[::-1]) #reverse"
      ]
    },
    {
      "cell_type": "code",
      "execution_count": 289,
      "metadata": {
        "id": "oULOFrBQWs1G"
      },
      "outputs": [
        {
          "name": "stdout",
          "output_type": "stream",
          "text": [
            "[[1 2 3]\n",
            " [4 5 6]\n",
            " [7 8 9]]\n",
            "----\n",
            "[4 5 6]\n",
            "----\n",
            "[4 5 6]\n",
            "----\n",
            "[[1 2 3]\n",
            " [4 5 6]]\n",
            "----\n",
            "[6 5 4]\n",
            "----\n",
            "[[9 8 7]\n",
            " [6 5 4]\n",
            " [3 2 1]]\n"
          ]
        }
      ],
      "source": [
        "print(a2)\n",
        "print(\"----\")\n",
        "print(a2[1])\n",
        "print(\"----\")\n",
        "print(a2[1 ,:])\n",
        "print(\"----\")\n",
        "print(a2[:2, :3])\n",
        "print(\"----\")\n",
        "print(a2[1, ::-1])\n",
        "print(\"----\")\n",
        "print(a2[::-1, ::-1]) #fully reverse"
      ]
    },
    {
      "cell_type": "markdown",
      "metadata": {
        "id": "LD52bXAsBgbH"
      },
      "source": [
        "### 불리언 인덱싱(Boolean Indexing)\n",
        "\n",
        "* 배열 각 요소의 선택 여부를 불리언(True or False)로 지정\n",
        "* True 값인 인덱스의 값만 조회"
      ]
    },
    {
      "cell_type": "code",
      "execution_count": 290,
      "metadata": {
        "id": "pOvNsH2oBgz-"
      },
      "outputs": [
        {
          "name": "stdout",
          "output_type": "stream",
          "text": [
            "[4 2 3 4 5]\n",
            "----\n",
            "[2 3 5]\n",
            "----\n",
            "[4 3 4]\n"
          ]
        }
      ],
      "source": [
        "print(a1)\n",
        "print(\"----\")\n",
        "bi = [False, True, True, False, True]\n",
        "print(a1[bi])\n",
        "print(\"----\")\n",
        "bi = [True, False, True, True, False]\n",
        "print(a1[bi])"
      ]
    },
    {
      "cell_type": "code",
      "execution_count": 291,
      "metadata": {
        "id": "EFfquM2kWHAU"
      },
      "outputs": [
        {
          "name": "stdout",
          "output_type": "stream",
          "text": [
            "[[1 2 3]\n",
            " [4 5 6]\n",
            " [7 8 9]]\n",
            "----\n",
            "[[False  True  True]\n",
            " [False  True False]\n",
            " [False  True  True]]\n",
            "----\n",
            "[2 3 5 8 9]\n"
          ]
        }
      ],
      "source": [
        "print(a2)\n",
        "print(\"----\")\n",
        "bi = np.random.randint(0, 2, (3,3), dtype=bool)\n",
        "print(bi)\n",
        "print(\"----\")\n",
        "print(a2[bi])"
      ]
    },
    {
      "cell_type": "markdown",
      "metadata": {
        "id": "R5hes-hdBujH"
      },
      "source": [
        "### 팬시 인덱싱(Fancy Indedxing)"
      ]
    },
    {
      "cell_type": "code",
      "execution_count": 292,
      "metadata": {
        "id": "z-Luw5fzBx30"
      },
      "outputs": [
        {
          "name": "stdout",
          "output_type": "stream",
          "text": [
            "[4 2 3 4 5]\n",
            "[4, 3]\n",
            "[4 3]\n",
            "------\n",
            "[[4 2]\n",
            " [3 4]]\n"
          ]
        }
      ],
      "source": [
        "print(a1)\n",
        "print([a1[0], a1[2]])\n",
        "ind = [0, 2]\n",
        "print(a1[ind])\n",
        "\n",
        "ind = np.array([[0, 1], #중요!!!!!!!!!!!!!!!!!!!!!!!!!!!!!!!!!!!!!!!!!!!!!!!!!!!!!!!!!!!!!!!\n",
        "               [2, 0]])\n",
        "print(\"------\")\n",
        "print(a1[ind])"
      ]
    },
    {
      "cell_type": "code",
      "execution_count": 293,
      "metadata": {
        "id": "p_Dd0oiJahgj"
      },
      "outputs": [
        {
          "name": "stdout",
          "output_type": "stream",
          "text": [
            "[[1 2 3]\n",
            " [4 5 6]\n",
            " [7 8 9]]\n",
            "--------\n",
            "[2 9]\n",
            "--------\n",
            "[[1 2 3]\n",
            " [7 8 9]]\n",
            "--------\n",
            "[[2 3]\n",
            " [5 6]\n",
            " [8 9]]\n",
            "--------\n",
            "[2 8]\n",
            "--------\n",
            "[8 9]\n",
            "--------\n",
            "[[2 3]\n",
            " [8 9]]\n",
            "--------\n",
            "[[5 6]\n",
            " [8 9]]\n"
          ]
        }
      ],
      "source": [
        "print(a2)\n",
        "row = np.array([0, 2])\n",
        "col = np.array([1, 2])\n",
        "\n",
        "print('--------')\n",
        "print(a2[row, col]) # -> a2[0,1] a2[2,2]와 동일.\n",
        "print('--------')\n",
        "print(a2[row, :])\n",
        "print('--------')\n",
        "print(a2[:, col])\n",
        "print('--------')\n",
        "print(a2[row, 1])\n",
        "print('--------')\n",
        "print(a2[2, col])\n",
        "print('--------')\n",
        "print(a2[row, 1:])\n",
        "print('--------')\n",
        "print(a2[1:, col])"
      ]
    },
    {
      "cell_type": "markdown",
      "metadata": {
        "id": "F71_PQF1GvTs"
      },
      "source": [
        "\n",
        "\n",
        "---\n",
        "\n"
      ]
    },
    {
      "cell_type": "markdown",
      "metadata": {
        "id": "zDI5yQ58O-IX"
      },
      "source": [
        "## 배열 값 삽입/수정/삭제/복사"
      ]
    },
    {
      "cell_type": "markdown",
      "metadata": {
        "id": "zajd1qpVOQYy"
      },
      "source": [
        "### 배열 값 삽입\n",
        "\n",
        "* `insert()`: 배열의 특정 위치에 값 삽입\n",
        "* axis를 지정하지 않으면 1차원 배열로 변환\n",
        "* 추가할 방향을 axis로 지정\n",
        "* 원본 배열 변경없이 새로운 배열 반환"
      ]
    },
    {
      "cell_type": "code",
      "execution_count": 294,
      "metadata": {
        "id": "sedRT54rP395"
      },
      "outputs": [
        {
          "name": "stdout",
          "output_type": "stream",
          "text": [
            "[4 2 3 4 5]\n",
            "[10  4  2  3  4  5]\n",
            "[ 4  2 10  3  4  5]\n"
          ]
        }
      ],
      "source": [
        "print(a1)\n",
        "b1 = np.insert(a1, 0, 10)\n",
        "print(b1)\n",
        "c1 = np.insert(a1, 2, 10)\n",
        "print(c1)"
      ]
    },
    {
      "cell_type": "code",
      "execution_count": 295,
      "metadata": {
        "id": "zNmu1E4iQ6h-"
      },
      "outputs": [
        {
          "name": "stdout",
          "output_type": "stream",
          "text": [
            "[[1 2 3]\n",
            " [4 5 6]\n",
            " [7 8 9]]\n",
            "--\n",
            "[[ 1  2  3]\n",
            " [10 10 10]\n",
            " [ 4  5  6]\n",
            " [ 7  8  9]]\n",
            "--\n",
            "[[ 1 10  2  3]\n",
            " [ 4 10  5  6]\n",
            " [ 7 10  8  9]]\n"
          ]
        }
      ],
      "source": [
        "print(a2)\n",
        "print(\"--\")\n",
        "b2 = np.insert(a2, 1, 10, axis=0)\n",
        "print(b2)\n",
        "print(\"--\")\n",
        "c2 = np.insert(a2, 1, 10, axis=1)\n",
        "print(c2)"
      ]
    },
    {
      "cell_type": "markdown",
      "metadata": {
        "id": "OlEzG4ffNjyL"
      },
      "source": [
        "### 배열 값 수정\n",
        "\n",
        "* 배열의 인덱싱으로 접근하여 값 수정"
      ]
    },
    {
      "cell_type": "code",
      "execution_count": 296,
      "metadata": {
        "id": "ec43i1KWNjeN"
      },
      "outputs": [
        {
          "name": "stdout",
          "output_type": "stream",
          "text": [
            "[4 2 3 4 5]\n",
            "[3 2 1 4 5]\n",
            "[9 2 1 4 5]\n",
            "[9 0 1 0 0]\n",
            "[9 4 1 4 4]\n"
          ]
        }
      ],
      "source": [
        "print(a1)\n",
        "a1[0] = 3\n",
        "a1[1] = 2\n",
        "a1[2] = 1\n",
        "print(a1)\n",
        "a1[:1] = 9\n",
        "print(a1)\n",
        "i = np.array([1, 3, 4])\n",
        "a1[i] = 0\n",
        "print(a1)\n",
        "a1[i] += 4\n",
        "print(a1)"
      ]
    },
    {
      "cell_type": "code",
      "execution_count": 297,
      "metadata": {
        "id": "IApNNx3NOMQh"
      },
      "outputs": [
        {
          "name": "stdout",
          "output_type": "stream",
          "text": [
            "[[1 2 3]\n",
            " [4 5 6]\n",
            " [7 8 9]]\n",
            "--\n",
            "[[4 4 4]\n",
            " [4 2 6]\n",
            " [7 8 1]]\n",
            "---\n",
            "[[4 4 4]\n",
            " [4 2 9]\n",
            " [7 8 9]]\n",
            "---\n",
            "[[4 0 4]\n",
            " [4 2 0]\n",
            " [7 8 9]]\n"
          ]
        }
      ],
      "source": [
        "print(a2)\n",
        "print('--')\n",
        "a2[0, 0] = 3\n",
        "a2[1, 1] = 2\n",
        "a2[2, 2] = 1\n",
        "a2[0] = 4\n",
        "print(a2)\n",
        "print('---')\n",
        "a2[1:, 2] = 9\n",
        "print(a2)\n",
        "print('---')\n",
        "row = np.array([0, 1])\n",
        "col = np.array([1, 2])\n",
        "a2[row, col] = 0\n",
        "print(a2)"
      ]
    },
    {
      "cell_type": "markdown",
      "metadata": {
        "id": "emV7DgrITPcn"
      },
      "source": [
        "### 배열 값 삭제\n",
        "\n",
        "* `delete()`: 배열의 특정 위치에 값 삭제\n",
        "* axis를 지정하지 않으면 1차원 배열로 변환\n",
        "* 삭제할 방향을 axis로 지정\n",
        "* 원본 배열 변경없이 새로운 배열 반환"
      ]
    },
    {
      "cell_type": "code",
      "execution_count": 298,
      "metadata": {
        "id": "I3k_Yx8lTRJ2"
      },
      "outputs": [
        {
          "name": "stdout",
          "output_type": "stream",
          "text": [
            "[9 4 1 4 4]\n",
            "[9 1 4 4]\n",
            "[9 4 1 4 4]\n"
          ]
        }
      ],
      "source": [
        "print(a1)\n",
        "b1 = np.delete(a1, 1)\n",
        "print(b1)\n",
        "print(a1)"
      ]
    },
    {
      "cell_type": "code",
      "execution_count": 299,
      "metadata": {
        "id": "tRTwMIfJTq_y"
      },
      "outputs": [
        {
          "name": "stdout",
          "output_type": "stream",
          "text": [
            "[[4 0 4]\n",
            " [4 2 0]\n",
            " [7 8 9]]\n",
            "---\n",
            "[[4 0 4]\n",
            " [7 8 9]]\n",
            "---\n",
            "[[4 4]\n",
            " [4 0]\n",
            " [7 9]]\n"
          ]
        }
      ],
      "source": [
        "print(a2)\n",
        "print('---')\n",
        "b2 = np.delete(a2, 1, axis=0)\n",
        "print(b2)\n",
        "print('---')\n",
        "c2 = np.delete(a2, 1, axis=1)\n",
        "print(c2)"
      ]
    },
    {
      "cell_type": "markdown",
      "metadata": {
        "id": "UydkYxV8Z6Fx"
      },
      "source": [
        "### 배열 복사\n",
        "\n",
        "* 리스트 자료형과 달리 배열의 슬라이스는 복사본이 아님"
      ]
    },
    {
      "cell_type": "code",
      "execution_count": 300,
      "metadata": {
        "id": "n2_0L8KWZ7wH"
      },
      "outputs": [
        {
          "name": "stdout",
          "output_type": "stream",
          "text": [
            "[[4 0 4]\n",
            " [4 2 0]\n",
            " [7 8 9]]\n",
            "---\n",
            "[[4 0]\n",
            " [4 2]]\n",
            "---\n",
            "[[4 0]\n",
            " [4 2]]\n",
            "---\n",
            "[[4 0]\n",
            " [4 0]]\n",
            "---\n",
            "[[4 0 4]\n",
            " [4 0 0]\n",
            " [7 8 9]]\n"
          ]
        }
      ],
      "source": [
        "print(a2)\n",
        "print('---')\n",
        "print(a2[:2, :2])\n",
        "print('---')\n",
        "a2_sub = a2[:2, :2]\n",
        "print(a2_sub)\n",
        "print('---')\n",
        "a2_sub[:, 1] = 0\n",
        "print(a2_sub) #복사본이 아니므로, 바로 적용됨. (동일한 메모리 위치이기 때문이다.)\n",
        "print('---')\n",
        "print(a2)"
      ]
    },
    {
      "cell_type": "markdown",
      "metadata": {
        "id": "UrQqOC1Eat5l"
      },
      "source": [
        "\n",
        "* `copy()`: 배열이나 하위 배열 내의 값을 명시적으로 복사"
      ]
    },
    {
      "cell_type": "code",
      "execution_count": 301,
      "metadata": {
        "id": "hLBZ7Qn6bAKO"
      },
      "outputs": [
        {
          "name": "stdout",
          "output_type": "stream",
          "text": [
            "[[4 0 4]\n",
            " [4 0 0]\n",
            " [7 8 9]]\n",
            "[[4 0]\n",
            " [4 0]]\n",
            "[[4 1]\n",
            " [4 1]]\n",
            "[[4 0 4]\n",
            " [4 0 0]\n",
            " [7 8 9]]\n"
          ]
        }
      ],
      "source": [
        "print(a2)\n",
        "a2_sub_copy = a2[:2, :2].copy() #명시적으로 복사 함. (서로 다른 메모리 위치에 수정하는 것.)\n",
        "print(a2_sub_copy)\n",
        "a2_sub_copy[:, 1] = 1\n",
        "print(a2_sub_copy)\n",
        "print(a2)"
      ]
    },
    {
      "cell_type": "markdown",
      "metadata": {
        "id": "4HTc9FXOGtA7"
      },
      "source": [
        "\n",
        "\n",
        "---\n",
        "\n"
      ]
    },
    {
      "cell_type": "markdown",
      "metadata": {
        "id": "XVZY082__yV6"
      },
      "source": [
        "## 배열 변환"
      ]
    },
    {
      "cell_type": "markdown",
      "metadata": {
        "id": "Ec09aPeBO58M"
      },
      "source": [
        "### 배열 전치 및 축 변경"
      ]
    },
    {
      "cell_type": "code",
      "execution_count": 302,
      "metadata": {
        "id": "anYByBpoWZmj"
      },
      "outputs": [
        {
          "name": "stdout",
          "output_type": "stream",
          "text": [
            "[[4 0 4]\n",
            " [4 0 0]\n",
            " [7 8 9]]\n",
            "[[4 4 7]\n",
            " [0 0 8]\n",
            " [4 0 9]]\n"
          ]
        }
      ],
      "source": [
        "print(a2)\n",
        "print(a2.T)"
      ]
    },
    {
      "cell_type": "code",
      "execution_count": 303,
      "metadata": {
        "id": "wg4XC6kiRnZo"
      },
      "outputs": [
        {
          "name": "stdout",
          "output_type": "stream",
          "text": [
            "[[[ 1  2  3]\n",
            "  [ 4  5  6]]\n",
            "\n",
            " [[ 7  8  9]\n",
            "  [10 11 12]]\n",
            "\n",
            " [[13 14 15]\n",
            "  [16 17 18]]]\n",
            "---\n",
            "[[[ 1  7 13]\n",
            "  [ 4 10 16]]\n",
            "\n",
            " [[ 2  8 14]\n",
            "  [ 5 11 17]]\n",
            "\n",
            " [[ 3  9 15]\n",
            "  [ 6 12 18]]]\n"
          ]
        }
      ],
      "source": [
        "print(a3)\n",
        "print('---')\n",
        "print(a3.T)"
      ]
    },
    {
      "cell_type": "code",
      "execution_count": 304,
      "metadata": {
        "id": "6lPwXL8rRTfI"
      },
      "outputs": [
        {
          "name": "stdout",
          "output_type": "stream",
          "text": [
            "[[4 0 4]\n",
            " [4 0 0]\n",
            " [7 8 9]]\n",
            "[[4 4 7]\n",
            " [0 0 8]\n",
            " [4 0 9]]\n"
          ]
        }
      ],
      "source": [
        "print(a2)\n",
        "print(a2.swapaxes(1, 0))"
      ]
    },
    {
      "cell_type": "code",
      "execution_count": 305,
      "metadata": {
        "id": "oLbEHtijRewH"
      },
      "outputs": [
        {
          "name": "stdout",
          "output_type": "stream",
          "text": [
            "[[[ 1  2  3]\n",
            "  [ 4  5  6]]\n",
            "\n",
            " [[ 7  8  9]\n",
            "  [10 11 12]]\n",
            "\n",
            " [[13 14 15]\n",
            "  [16 17 18]]]\n",
            "---\n",
            "[[[ 1  2  3]\n",
            "  [ 7  8  9]\n",
            "  [13 14 15]]\n",
            "\n",
            " [[ 4  5  6]\n",
            "  [10 11 12]\n",
            "  [16 17 18]]]\n",
            "---\n",
            "[[[ 1  4]\n",
            "  [ 2  5]\n",
            "  [ 3  6]]\n",
            "\n",
            " [[ 7 10]\n",
            "  [ 8 11]\n",
            "  [ 9 12]]\n",
            "\n",
            " [[13 16]\n",
            "  [14 17]\n",
            "  [15 18]]]\n"
          ]
        }
      ],
      "source": [
        "print(a3)\n",
        "print('---')\n",
        "print(a3.swapaxes(0, 1))\n",
        "print('---')\n",
        "print(a3.swapaxes(1, 2))"
      ]
    },
    {
      "cell_type": "markdown",
      "metadata": {
        "id": "M7xN8WdOdb_S"
      },
      "source": [
        "### 배열 재구조화\n"
      ]
    },
    {
      "cell_type": "markdown",
      "metadata": {
        "id": "JwZJMpXGfY0V"
      },
      "source": [
        "* `reshape()`: 배열의 형상을 변경"
      ]
    },
    {
      "cell_type": "code",
      "execution_count": 306,
      "metadata": {
        "id": "SlGQ17VQdd8i"
      },
      "outputs": [
        {
          "name": "stdout",
          "output_type": "stream",
          "text": [
            "[1 2 3 4 5 6 7 8 9]\n",
            "[[1 2 3]\n",
            " [4 5 6]\n",
            " [7 8 9]]\n"
          ]
        }
      ],
      "source": [
        "n1 = np.arange(1, 10)\n",
        "print(n1)\n",
        "print(n1.reshape(3, 3)) #1차원 -> 2차원 배열"
      ]
    },
    {
      "cell_type": "markdown",
      "metadata": {
        "id": "y_U1W-fQfuQY"
      },
      "source": [
        "* `newaxis()`: 새로운 축 추가"
      ]
    },
    {
      "cell_type": "code",
      "execution_count": 307,
      "metadata": {
        "id": "COif_weCfkGo"
      },
      "outputs": [
        {
          "name": "stdout",
          "output_type": "stream",
          "text": [
            "[1 2 3 4 5 6 7 8 9]\n",
            "[[1 2 3 4 5]]\n",
            "[[1]\n",
            " [2]\n",
            " [3]\n",
            " [4]\n",
            " [5]]\n"
          ]
        }
      ],
      "source": [
        "print(n1)\n",
        "print(n1[np.newaxis, :5]) #newaxis의 위치에 따라 행, 열이 됨.\n",
        "print(n1[:5, np.newaxis])"
      ]
    },
    {
      "cell_type": "markdown",
      "metadata": {
        "id": "FR82RSDggbcJ"
      },
      "source": [
        "### 배열 크기 변경"
      ]
    },
    {
      "cell_type": "markdown",
      "metadata": {
        "id": "D1LuDMVFl4tc"
      },
      "source": [
        "* 배열 모양만 변경"
      ]
    },
    {
      "cell_type": "code",
      "execution_count": 308,
      "metadata": {
        "id": "7B6pHlfxgdSJ"
      },
      "outputs": [
        {
          "name": "stdout",
          "output_type": "stream",
          "text": [
            "[[5 9 3 8 7]\n",
            " [3 9 4 4 6]]\n",
            "---\n",
            "[[5 9]\n",
            " [3 8]\n",
            " [7 3]\n",
            " [9 4]\n",
            " [4 6]]\n"
          ]
        }
      ],
      "source": [
        "n2 = np.random.randint(0, 10, (2, 5))\n",
        "print(n2)\n",
        "print('---')\n",
        "n2.resize((5, 2))\n",
        "print(n2)"
      ]
    },
    {
      "cell_type": "markdown",
      "metadata": {
        "id": "s0adm-h9l6sv"
      },
      "source": [
        "* 배열 크기 증가\n",
        "* 남은 공간은 0으로 채워짐"
      ]
    },
    {
      "cell_type": "code",
      "execution_count": 309,
      "metadata": {
        "id": "IrX0UcjrlWRV"
      },
      "outputs": [
        {
          "name": "stdout",
          "output_type": "stream",
          "text": [
            "[[5 9 3 8 7]\n",
            " [3 9 4 4 6]\n",
            " [0 0 0 0 0]\n",
            " [0 0 0 0 0]\n",
            " [0 0 0 0 0]]\n"
          ]
        }
      ],
      "source": [
        "n2.resize((5, 5))\n",
        "print(n2)"
      ]
    },
    {
      "cell_type": "markdown",
      "metadata": {
        "id": "78hPDEzfl9JB"
      },
      "source": [
        "* 배열 크기 감소\n",
        "* 포함되지 않은 값은 삭제됨"
      ]
    },
    {
      "cell_type": "code",
      "execution_count": 310,
      "metadata": {
        "id": "fJWrwhc6lmjW"
      },
      "outputs": [
        {
          "name": "stdout",
          "output_type": "stream",
          "text": [
            "[[5 9 3]\n",
            " [8 7 3]\n",
            " [9 4 4]]\n"
          ]
        }
      ],
      "source": [
        "n2.resize((3, 3))\n",
        "print(n2)"
      ]
    },
    {
      "cell_type": "markdown",
      "metadata": {
        "id": "r9z2gD_pHyx9"
      },
      "source": [
        "### 배열 추가\n",
        "\n",
        "* `append()`: 배열의 끝에 값 추가"
      ]
    },
    {
      "cell_type": "code",
      "execution_count": 311,
      "metadata": {
        "id": "fH4lpQKNH5s1"
      },
      "outputs": [
        {
          "name": "stdout",
          "output_type": "stream",
          "text": [
            "[[1 2 3]\n",
            " [4 5 6]\n",
            " [7 8 9]]\n",
            "---\n",
            "[[10 11 12]\n",
            " [13 14 15]\n",
            " [16 17 18]]\n"
          ]
        }
      ],
      "source": [
        "a2 = np.arange(1, 10).reshape(3, 3)\n",
        "print(a2)\n",
        "print('---')\n",
        "b2 = np.arange(10, 19).reshape(3, 3)\n",
        "print(b2)\n"
      ]
    },
    {
      "cell_type": "markdown",
      "metadata": {
        "id": "n8SMl5VVIquk"
      },
      "source": [
        "* axis 지정이 없으면 1차원 배열 형태로 변형되어 결합"
      ]
    },
    {
      "cell_type": "code",
      "execution_count": 312,
      "metadata": {
        "id": "LRltk3yFIVsV"
      },
      "outputs": [
        {
          "name": "stdout",
          "output_type": "stream",
          "text": [
            "[ 1  2  3  4  5  6  7  8  9 10 11 12 13 14 15 16 17 18]\n"
          ]
        }
      ],
      "source": [
        "c2 = np.append(a2, b2)\n",
        "print(c2)"
      ]
    },
    {
      "cell_type": "markdown",
      "metadata": {
        "id": "sVW2UFVZJfpR"
      },
      "source": [
        "* axis를 0으로 지정\n",
        "* shape[0]을 제외한 나머지 shape은 같아야 함"
      ]
    },
    {
      "cell_type": "code",
      "execution_count": 313,
      "metadata": {
        "id": "nwJ4xLOeIbMg"
      },
      "outputs": [
        {
          "name": "stdout",
          "output_type": "stream",
          "text": [
            "[[ 1  2  3]\n",
            " [ 4  5  6]\n",
            " [ 7  8  9]\n",
            " [10 11 12]\n",
            " [13 14 15]\n",
            " [16 17 18]]\n"
          ]
        }
      ],
      "source": [
        "c2 = np.append(a2, b2, axis=0)\n",
        "print(c2)"
      ]
    },
    {
      "cell_type": "markdown",
      "metadata": {
        "id": "4YXxzygaJmj-"
      },
      "source": [
        "* axis를 1로 지정\n",
        "* shape[1]을 제외한 나머지 shape은 같아야 함"
      ]
    },
    {
      "cell_type": "code",
      "execution_count": 314,
      "metadata": {
        "id": "JYE4_5gAJmYe"
      },
      "outputs": [
        {
          "name": "stdout",
          "output_type": "stream",
          "text": [
            "[[ 1  2  3 10 11 12]\n",
            " [ 4  5  6 13 14 15]\n",
            " [ 7  8  9 16 17 18]]\n"
          ]
        }
      ],
      "source": [
        "c2 = np.append(a2, b2, axis=1)\n",
        "print(c2)"
      ]
    },
    {
      "cell_type": "markdown",
      "metadata": {
        "id": "9sTza3b2hoe4"
      },
      "source": [
        "### 배열 연결"
      ]
    },
    {
      "cell_type": "markdown",
      "metadata": {
        "id": "TRun2NPYj8Ct"
      },
      "source": [
        "* `concatenate()`: 튜플이나 배열의 리스트를 인수로 사용해 배열 연결"
      ]
    },
    {
      "cell_type": "code",
      "execution_count": 315,
      "metadata": {
        "id": "lmEqdPifhrB_"
      },
      "outputs": [
        {
          "data": {
            "text/plain": "array([1, 3, 5, 2, 4, 6])"
          },
          "execution_count": 315,
          "metadata": {},
          "output_type": "execute_result"
        }
      ],
      "source": [
        "a1 = np.array([1, 3, 5])\n",
        "b1 = np.array([2, 4, 6])\n",
        "np.concatenate([a1, b1])"
      ]
    },
    {
      "cell_type": "code",
      "execution_count": 316,
      "metadata": {
        "id": "IkoTNIt2k0tp"
      },
      "outputs": [
        {
          "data": {
            "text/plain": "array([1, 3, 5, 2, 4, 6, 7, 8, 9])"
          },
          "execution_count": 316,
          "metadata": {},
          "output_type": "execute_result"
        }
      ],
      "source": [
        "c1 = np.array([7, 8, 9])\n",
        "np.concatenate([a1, b1, c1])"
      ]
    },
    {
      "cell_type": "code",
      "execution_count": 317,
      "metadata": {
        "id": "vX0SCYX3lEs2"
      },
      "outputs": [
        {
          "data": {
            "text/plain": "array([[1, 2, 3],\n       [4, 5, 6],\n       [1, 2, 3],\n       [4, 5, 6]])"
          },
          "execution_count": 317,
          "metadata": {},
          "output_type": "execute_result"
        }
      ],
      "source": [
        "a2 = np.array([[1, 2, 3],\n",
        "              [4, 5, 6]])\n",
        "np.concatenate([a2, a2]) #기본 axis = 0"
      ]
    },
    {
      "cell_type": "code",
      "execution_count": 318,
      "metadata": {
        "id": "Rv6xGva7lxHP"
      },
      "outputs": [
        {
          "data": {
            "text/plain": "array([[1, 2, 3, 1, 2, 3],\n       [4, 5, 6, 4, 5, 6]])"
          },
          "execution_count": 318,
          "metadata": {},
          "output_type": "execute_result"
        }
      ],
      "source": [
        "a2 = np.array([[1, 2, 3],\n",
        "              [4, 5, 6]])\n",
        "np.concatenate([a2, a2], axis=1)"
      ]
    },
    {
      "cell_type": "markdown",
      "metadata": {
        "id": "MbiBbx4nl2KD"
      },
      "source": [
        "* `vstack()`: 수직 스택(vertical stack), 1차원으로 연결"
      ]
    },
    {
      "cell_type": "code",
      "execution_count": 319,
      "metadata": {
        "id": "HkHJwdBMl_qi"
      },
      "outputs": [
        {
          "data": {
            "text/plain": "array([[1, 2, 3],\n       [4, 5, 6],\n       [1, 2, 3],\n       [4, 5, 6]])"
          },
          "execution_count": 319,
          "metadata": {},
          "output_type": "execute_result"
        }
      ],
      "source": [
        "np.vstack([a2, a2])"
      ]
    },
    {
      "cell_type": "markdown",
      "metadata": {
        "id": "-hTlAnWxmHA_"
      },
      "source": [
        "* `hstack()`: 수평 스택(horizontal stack), 2차원으로 연결"
      ]
    },
    {
      "cell_type": "code",
      "execution_count": 320,
      "metadata": {
        "id": "-HsGlAytmNEz"
      },
      "outputs": [
        {
          "data": {
            "text/plain": "array([[1, 2, 3, 1, 2, 3],\n       [4, 5, 6, 4, 5, 6]])"
          },
          "execution_count": 320,
          "metadata": {},
          "output_type": "execute_result"
        }
      ],
      "source": [
        "np.hstack([a2, a2])"
      ]
    },
    {
      "cell_type": "markdown",
      "metadata": {
        "id": "CshM6LURmUhV"
      },
      "source": [
        "* `dstack()`: 깊이 스택(depth stack), 3차원으로 연결"
      ]
    },
    {
      "cell_type": "code",
      "execution_count": 321,
      "metadata": {
        "id": "TFBdRddpmU4m"
      },
      "outputs": [
        {
          "data": {
            "text/plain": "array([[[1, 1],\n        [2, 2],\n        [3, 3]],\n\n       [[4, 4],\n        [5, 5],\n        [6, 6]]])"
          },
          "execution_count": 321,
          "metadata": {},
          "output_type": "execute_result"
        }
      ],
      "source": [
        "np.dstack([a2, a2])"
      ]
    },
    {
      "cell_type": "markdown",
      "metadata": {
        "id": "JUBtc4UnpaSz"
      },
      "source": [
        "* `stack()`: 새로운 차원으로 연결"
      ]
    },
    {
      "cell_type": "code",
      "execution_count": 322,
      "metadata": {
        "id": "JzoujQ9_pHS5"
      },
      "outputs": [
        {
          "data": {
            "text/plain": "array([[[1, 2, 3],\n        [4, 5, 6]],\n\n       [[1, 2, 3],\n        [4, 5, 6]]])"
          },
          "execution_count": 322,
          "metadata": {},
          "output_type": "execute_result"
        }
      ],
      "source": [
        "np.stack([a2, a2])"
      ]
    },
    {
      "cell_type": "markdown",
      "metadata": {
        "id": "eYz74NYKo8iH"
      },
      "source": [
        "### 배열 분할"
      ]
    },
    {
      "cell_type": "markdown",
      "metadata": {
        "id": "wjt2zku5pBmF"
      },
      "source": [
        "* `split()`: 배열 분할"
      ]
    },
    {
      "cell_type": "code",
      "execution_count": 323,
      "metadata": {
        "id": "H_2e71heo-Eq"
      },
      "outputs": [
        {
          "name": "stdout",
          "output_type": "stream",
          "text": [
            "[0 1 2 3 4 5 6 7 8 9]\n",
            "[0 1 2 3 4] [5 6 7 8 9]\n",
            "[0 1] [2 3] [6 7] [8 9]\n"
          ]
        }
      ],
      "source": [
        "a1 = np.arange(0, 10)\n",
        "print(a1)\n",
        "b1, c1 = np.split(a1, [5])\n",
        "print(b1, c1)\n",
        "b1, c1, d1, e1, f1 = np.split(a1, [2, 4, 6, 8])\n",
        "print(b1, c1, e1, f1)"
      ]
    },
    {
      "cell_type": "markdown",
      "metadata": {
        "id": "IvvdCQcKsCLn"
      },
      "source": [
        "* `vsplit()`: 수직 분할, 1차원으로 분할"
      ]
    },
    {
      "cell_type": "code",
      "execution_count": 324,
      "metadata": {
        "id": "GdMYlsiLsCoe"
      },
      "outputs": [
        {
          "name": "stdout",
          "output_type": "stream",
          "text": [
            "[[1 2 3]\n",
            " [4 5 6]\n",
            " [7 8 9]]\n",
            "---\n",
            "[[1 2 3]\n",
            " [4 5 6]]\n",
            "[[7 8 9]]\n"
          ]
        }
      ],
      "source": [
        "a2 = np.arange(1, 10).reshape(3,3)\n",
        "print(a2)\n",
        "print('---')\n",
        "b2, c2 = np.vsplit(a2, [2])\n",
        "print(b2)\n",
        "print(c2)"
      ]
    },
    {
      "cell_type": "markdown",
      "metadata": {
        "id": "1aC0a034rSXi"
      },
      "source": [
        "* `hsplit()`: 수평 분할, 2차원으로 분할"
      ]
    },
    {
      "cell_type": "code",
      "execution_count": 325,
      "metadata": {
        "id": "ShMnE_bnrSBJ"
      },
      "outputs": [
        {
          "name": "stdout",
          "output_type": "stream",
          "text": [
            "[[1 2 3]\n",
            " [4 5 6]\n",
            " [7 8 9]]\n",
            "---\n",
            "[[1 2]\n",
            " [4 5]\n",
            " [7 8]]\n",
            "---\n",
            "[[3]\n",
            " [6]\n",
            " [9]]\n"
          ]
        }
      ],
      "source": [
        "a2 = np.arange(1, 10).reshape(3,3)\n",
        "print(a2)\n",
        "print('---')\n",
        "b2, c2 = np.hsplit(a2, [2])\n",
        "print(b2)\n",
        "print('---')\n",
        "print(c2)"
      ]
    },
    {
      "cell_type": "markdown",
      "metadata": {
        "id": "Pz3BDD8qsQER"
      },
      "source": [
        "* `dsplit()`: 깊이 분할, 3차원으로 분할"
      ]
    },
    {
      "cell_type": "code",
      "execution_count": 326,
      "metadata": {
        "id": "DqHFGd43sQYj"
      },
      "outputs": [
        {
          "name": "stdout",
          "output_type": "stream",
          "text": [
            "[[[ 1  2  3]\n",
            "  [ 4  5  6]\n",
            "  [ 7  8  9]]\n",
            "\n",
            " [[10 11 12]\n",
            "  [13 14 15]\n",
            "  [16 17 18]]\n",
            "\n",
            " [[19 20 21]\n",
            "  [22 23 24]\n",
            "  [25 26 27]]]\n",
            "---\n",
            "[[[ 1  2]\n",
            "  [ 4  5]\n",
            "  [ 7  8]]\n",
            "\n",
            " [[10 11]\n",
            "  [13 14]\n",
            "  [16 17]]\n",
            "\n",
            " [[19 20]\n",
            "  [22 23]\n",
            "  [25 26]]]\n",
            "---\n",
            "[[[ 3]\n",
            "  [ 6]\n",
            "  [ 9]]\n",
            "\n",
            " [[12]\n",
            "  [15]\n",
            "  [18]]\n",
            "\n",
            " [[21]\n",
            "  [24]\n",
            "  [27]]]\n"
          ]
        }
      ],
      "source": [
        "a3 = np.arange(1, 28).reshape(3, 3, 3)\n",
        "print(a3)\n",
        "print('---')\n",
        "b2, c2 = np.dsplit(a3, [2])\n",
        "print(b2)\n",
        "print('---')\n",
        "print(c2)"
      ]
    },
    {
      "cell_type": "markdown",
      "metadata": {
        "id": "rK-zrDZuGoVd"
      },
      "source": [
        "\n",
        "\n",
        "---\n",
        "\n"
      ]
    },
    {
      "cell_type": "markdown",
      "metadata": {
        "id": "Vc-iSWewJ3C1"
      },
      "source": [
        "## 배열 연산\n",
        "\n",
        "* NumPy의 배열 연산은 벡터화(vectorized) 연산을 사용\n",
        "* 일반적으로 NumPy의 범용 함수(universal functions)를 통해 구현\n",
        "* 배열 요소에 대한 반복적인 계산을 효율적으로 수행"
      ]
    },
    {
      "cell_type": "markdown",
      "metadata": {
        "id": "Pg2er1A2w3cz"
      },
      "source": [
        "### 브로드캐스팅(Broadcasting)"
      ]
    },
    {
      "cell_type": "code",
      "execution_count": 327,
      "metadata": {
        "id": "IGU-HRgr20nj"
      },
      "outputs": [
        {
          "name": "stdout",
          "output_type": "stream",
          "text": [
            "[1 2 3]\n",
            "---\n",
            "[6 7 8]\n",
            "---\n",
            "[[1 2 3]\n",
            " [4 5 6]\n",
            " [7 8 9]]\n",
            "---\n",
            "[[ 2  4  6]\n",
            " [ 5  7  9]\n",
            " [ 8 10 12]]\n",
            "---\n",
            "[[1]\n",
            " [2]\n",
            " [3]]\n",
            "---\n",
            "[[2 3 4]\n",
            " [3 4 5]\n",
            " [4 5 6]]\n"
          ]
        }
      ],
      "source": [
        "a1 = np.array([1, 2, 3])\n",
        "print(a1)\n",
        "print('---')\n",
        "print(a1 + 5)\n",
        "print('---')\n",
        "\n",
        "a2 = np.arange(1, 10).reshape(3, 3)\n",
        "print(a2)\n",
        "print('---')\n",
        "print(a1 + a2) #브로드캐스팅\n",
        "\n",
        "print('---')\n",
        "b2 = np.array([1, 2, 3]).reshape(3, 1)\n",
        "print(b2)\n",
        "print('---')\n",
        "print(a1 + b2) #브로드캐스팅"
      ]
    },
    {
      "cell_type": "markdown",
      "metadata": {
        "id": "NZzLHHLmwl_b"
      },
      "source": [
        "### 산술 연산(Arithmetic Operators)"
      ]
    },
    {
      "cell_type": "code",
      "execution_count": 328,
      "metadata": {
        "id": "jHrIjHGEi05k"
      },
      "outputs": [
        {
          "name": "stdout",
          "output_type": "stream",
          "text": [
            "[1 2 3 4 5 6 7 8 9]\n",
            "[ 2  3  4  5  6  7  8  9 10]\n",
            "---\n",
            "[11 12 13 14 15 16 17 18 19]\n",
            "---\n",
            "[-1  0  1  2  3  4  5  6  7]\n",
            "---\n",
            "[-9 -8 -7 -6 -5 -4 -3 -2 -1]\n",
            "---\n",
            "[-1 -2 -3 -4 -5 -6 -7 -8 -9]\n",
            "---\n",
            "[-1 -2 -3 -4 -5 -6 -7 -8 -9]\n",
            "---\n",
            "[ 2  4  6  8 10 12 14 16 18]\n",
            "---\n",
            "[ 2  4  6  8 10 12 14 16 18]\n",
            "---\n",
            "[0.5 1.  1.5 2.  2.5 3.  3.5 4.  4.5]\n",
            "---\n",
            "[0.5 1.  1.5 2.  2.5 3.  3.5 4.  4.5]\n",
            "---\n",
            "[0 1 1 2 2 3 3 4 4]\n",
            "---\n",
            "[0 1 1 2 2 3 3 4 4]\n",
            "---\n",
            "[ 1  4  9 16 25 36 49 64 81]\n",
            "---\n",
            "[ 1  4  9 16 25 36 49 64 81]\n",
            "---\n",
            "[1 0 1 0 1 0 1 0 1]\n",
            "---\n",
            "[1 0 1 0 1 0 1 0 1]\n"
          ]
        }
      ],
      "source": [
        "a1 = np.arange(1, 10)\n",
        "print(a1)\n",
        "print(a1 + 1)\n",
        "print('---')\n",
        "\n",
        "print(np.add(a1, 10)) #덧셈\n",
        "print('---')\n",
        "print(a1-2)\n",
        "print('---')\n",
        "print(np.subtract(a1, 10)) #뺄셈\n",
        "print('---')\n",
        "print(-a1)\n",
        "print('---')\n",
        "print(np.negative(a1)) #단항 음수\n",
        "print('---')\n",
        "print(a1 * 2)\n",
        "print('---')\n",
        "print(np.multiply(a1, 2)) #곱하기\n",
        "print('---')\n",
        "print(a1 / 2) #\n",
        "print('---')\n",
        "print(np.divide(a1, 2)) #나누기\n",
        "print('---')\n",
        "print(a1 // 2)\n",
        "print('---')\n",
        "print(np.floor_divide(a1, 2)) #나누기 내림\n",
        "print('---')\n",
        "print(a1 ** 2) \n",
        "print('---')\n",
        "print(np.power(a1, 2)) #제곱\n",
        "print('---')\n",
        "print(a1 % 2)\n",
        "print('---')\n",
        "print(np.mod(a1, 2)) #나머지"
      ]
    },
    {
      "cell_type": "code",
      "execution_count": 329,
      "metadata": {
        "id": "sMUYzXk3psgC"
      },
      "outputs": [
        {
          "name": "stdout",
          "output_type": "stream",
          "text": [
            "[1 2 3 4 5 6 7 8 9]\n",
            "---\n",
            "[ 6  9  7 11  6 14 15 14 16]\n",
            "---\n",
            "[-4 -5 -1 -3  4 -2 -1  2  2]\n",
            "---\n",
            "[ 5 14 12 28  5 48 56 48 63]\n",
            "---\n",
            "[0.2        0.28571429 0.75       0.57142857 5.         0.75\n",
            " 0.875      1.33333333 1.28571429]\n",
            "---\n",
            "[0 0 0 0 5 0 0 1 1]\n",
            "---\n",
            "[      1     128      81   16384       5 1679616 5764801  262144 4782969]\n",
            "---\n",
            "[1 2 3 4 0 6 7 2 2]\n"
          ]
        }
      ],
      "source": [
        "a1 = np.arange(1, 10)\n",
        "print(a1)\n",
        "print('---')\n",
        "\n",
        "b1 = np.random.randint(1, 10, size=9)\n",
        "print(a1 + b1)\n",
        "print('---')\n",
        "print(a1 - b1)\n",
        "print('---')\n",
        "print(a1 * b1)\n",
        "print('---')\n",
        "print(a1 / b1)\n",
        "print('---')\n",
        "print(a1 // b1)\n",
        "print('---')\n",
        "print(a1 ** b1)\n",
        "print('---')\n",
        "print(a1 % b1)"
      ]
    },
    {
      "cell_type": "code",
      "execution_count": 330,
      "metadata": {
        "id": "ZkyjPmk5onPK"
      },
      "outputs": [
        {
          "name": "stdout",
          "output_type": "stream",
          "text": [
            "[[1 2 3]\n",
            " [4 5 6]\n",
            " [7 8 9]]\n",
            "---\n",
            "[[6 5 6]\n",
            " [8 2 2]\n",
            " [4 2 7]]\n",
            "---\n",
            "[[ 7  7  9]\n",
            " [12  7  8]\n",
            " [11 10 16]]\n",
            "---\n",
            "[[-5 -3 -3]\n",
            " [-4  3  4]\n",
            " [ 3  6  2]]\n",
            "---\n",
            "[[ 6 10 18]\n",
            " [32 10 12]\n",
            " [28 16 63]]\n",
            "---\n",
            "[[0.16666667 0.4        0.5       ]\n",
            " [0.5        2.5        3.        ]\n",
            " [1.75       4.         1.28571429]]\n",
            "---\n",
            "[[0 0 0]\n",
            " [0 2 3]\n",
            " [1 4 1]]\n",
            "---\n",
            "[[      1      32     729]\n",
            " [  65536      25      36]\n",
            " [   2401      64 4782969]]\n",
            "---\n",
            "[[1 2 3]\n",
            " [4 1 0]\n",
            " [3 0 2]]\n"
          ]
        }
      ],
      "source": [
        "a2 = np.arange(1, 10).reshape(3, 3)\n",
        "print(a2)\n",
        "print('---')\n",
        "b2= np.random.randint(1, 10, size=(3, 3))\n",
        "print(b2)\n",
        "print('---')\n",
        "print(a2 + b2)\n",
        "print('---')\n",
        "print(a2 - b2)\n",
        "print('---')\n",
        "print(a2 * b2)\n",
        "print('---')\n",
        "print(a2 / b2)\n",
        "print('---')\n",
        "print(a2 // b2)\n",
        "print('---')\n",
        "print(a2 ** b2)\n",
        "print('---')\n",
        "print(a2% b2)\n"
      ]
    },
    {
      "cell_type": "markdown",
      "metadata": {
        "id": "hxG_aECas3a9"
      },
      "source": [
        "#### 절대값 함수(Absolute Function)\n",
        "\n",
        "* `absolute()`, `abs()`: 내장된 절대값 함수"
      ]
    },
    {
      "cell_type": "code",
      "execution_count": 331,
      "metadata": {
        "id": "YmX-0LvWs7qM"
      },
      "outputs": [
        {
          "name": "stdout",
          "output_type": "stream",
          "text": [
            "[ -8 -10  -5 -10  -6]\n",
            "[ 8 10  5 10  6]\n",
            "[ 8 10  5 10  6]\n"
          ]
        }
      ],
      "source": [
        "a1 = np.random.randint(-10, 0, size=5)\n",
        "print(a1)\n",
        "print(np.absolute(a1))\n",
        "print(np.abs(a1)) #abs(solute)"
      ]
    },
    {
      "cell_type": "markdown",
      "metadata": {
        "id": "U5uE3sVtzRvA"
      },
      "source": [
        "#### 제곱/제곱근 함수\n",
        "\n",
        "* `square`, `sqrt`: 제곱, 제곱근 함수"
      ]
    },
    {
      "cell_type": "code",
      "execution_count": 332,
      "metadata": {
        "id": "ggnIxDGzzTfX"
      },
      "outputs": [
        {
          "name": "stdout",
          "output_type": "stream",
          "text": [
            "[ 6  4 10  9  6]\n",
            "[ 36  16 100  81  36]\n",
            "[2.44948974 2.         3.16227766 3.         2.44948974]\n"
          ]
        }
      ],
      "source": [
        "a1 = np.random.randint(1, 11, size=5)\n",
        "print(a1)\n",
        "print(np.square(a1)) #제곱\n",
        "print(np.sqrt(a1)) #제곱근"
      ]
    },
    {
      "cell_type": "markdown",
      "metadata": {
        "id": "tWh1aQ50vRhB"
      },
      "source": [
        "#### 지수와 로그 함수 (Exponential and Log Function)"
      ]
    },
    {
      "cell_type": "code",
      "execution_count": 333,
      "metadata": {
        "id": "Dygt3AyHvTZz"
      },
      "outputs": [
        {
          "name": "stdout",
          "output_type": "stream",
          "text": [
            "[5 9 6 3 5]\n",
            "[ 148.4131591  8103.08392758  403.42879349   20.08553692  148.4131591 ]\n",
            "[ 32. 512.  64.   8.  32.]\n",
            "[25 81 36  9 25]\n"
          ]
        }
      ],
      "source": [
        "a1 = np.random.randint(1, 10, size=5)\n",
        "print(a1)\n",
        "print(np.exp(a1)) #자연상수 e에 대한 지수\n",
        "print(np.exp2(a1)) #2에 대한 지수\n",
        "print(np.power(a1, 2)) #제곱"
      ]
    },
    {
      "cell_type": "code",
      "execution_count": 334,
      "metadata": {
        "id": "YB0BzwxDvnkT"
      },
      "outputs": [
        {
          "name": "stdout",
          "output_type": "stream",
          "text": [
            "[5 9 6 3 5]\n",
            "[1.60943791 2.19722458 1.79175947 1.09861229 1.60943791]\n",
            "[2.32192809 3.169925   2.5849625  1.5849625  2.32192809]\n",
            "[0.69897    0.95424251 0.77815125 0.47712125 0.69897   ]\n"
          ]
        }
      ],
      "source": [
        "print(a1)\n",
        "print(np.log(a1))\n",
        "print(np.log2(a1))\n",
        "print(np.log10(a1))"
      ]
    },
    {
      "cell_type": "markdown",
      "metadata": {
        "id": "wE_p9AxjtdJ9"
      },
      "source": [
        "#### 삼각 함수(Trigonometrical Function)\n"
      ]
    },
    {
      "cell_type": "code",
      "execution_count": 335,
      "metadata": {
        "id": "6bOSPS81tuo5"
      },
      "outputs": [
        {
          "name": "stdout",
          "output_type": "stream",
          "text": [
            "[0.         1.57079633 3.14159265]\n",
            "[0.0000000e+00 1.0000000e+00 1.2246468e-16]\n",
            "[ 1.000000e+00  6.123234e-17 -1.000000e+00]\n",
            "[ 0.00000000e+00  1.63312394e+16 -1.22464680e-16]\n"
          ]
        }
      ],
      "source": [
        "t = np.linspace(0, np.pi, 3)\n",
        "print(t)\n",
        "print(np.sin(t))\n",
        "print(np.cos(t))\n",
        "print(np.tan(t))\n"
      ]
    },
    {
      "cell_type": "code",
      "execution_count": 336,
      "metadata": {
        "id": "v7m-AQW9uJ9u"
      },
      "outputs": [
        {
          "name": "stdout",
          "output_type": "stream",
          "text": [
            "[-1, 0, 1]\n",
            "[-1.57079633  0.          1.57079633]\n",
            "[3.14159265 1.57079633 0.        ]\n",
            "[-0.78539816  0.          0.78539816]\n"
          ]
        }
      ],
      "source": [
        "x = [-1, 0, 1]\n",
        "print(x)\n",
        "print(np.arcsin(x))\n",
        "print(np.arccos(x))\n",
        "print(np.arctan(x))\n"
      ]
    },
    {
      "cell_type": "markdown",
      "metadata": {
        "id": "hKJtYUVWwxQy"
      },
      "source": [
        "### 집계 함수(Aggregate Functions)"
      ]
    },
    {
      "cell_type": "markdown",
      "metadata": {
        "id": "GdxMrX5l9m6W"
      },
      "source": [
        "#### sum(): 합 계산"
      ]
    },
    {
      "cell_type": "code",
      "execution_count": 337,
      "metadata": {
        "id": "AJQ3GjLI0cZU"
      },
      "outputs": [
        {
          "name": "stdout",
          "output_type": "stream",
          "text": [
            "[[5 9 7]\n",
            " [1 3 5]\n",
            " [2 3 3]]\n",
            "38 38\n",
            "[ 8 15 15] [ 8 15 15]\n",
            "[21  9  8] [21  9  8]\n"
          ]
        }
      ],
      "source": [
        "a2 = np.random.randint(1, 10, size=(3, 3))\n",
        "print(a2)\n",
        "print(a2.sum(), np.sum(a2))\n",
        "print(a2.sum(axis=0), np.sum(a2, axis=0))\n",
        "print(a2.sum(axis=1), np.sum(a2, axis=1))"
      ]
    },
    {
      "cell_type": "markdown",
      "metadata": {
        "id": "U4W4iIb9J4Zd"
      },
      "source": [
        "#### cumsum(): 누적합 계산"
      ]
    },
    {
      "cell_type": "code",
      "execution_count": 338,
      "metadata": {
        "id": "SRZWZD3UJ4wo"
      },
      "outputs": [
        {
          "name": "stdout",
          "output_type": "stream",
          "text": [
            "[[5 9 7]\n",
            " [1 3 5]\n",
            " [2 3 3]]\n",
            "[ 5 14 21 22 25 30 32 35 38]\n",
            "[[ 5  9  7]\n",
            " [ 6 12 12]\n",
            " [ 8 15 15]]\n",
            "[[ 5 14 21]\n",
            " [ 1  4  9]\n",
            " [ 2  5  8]]\n"
          ]
        }
      ],
      "source": [
        "print(a2)\n",
        "print(np.cumsum(a2))\n",
        "print(np.cumsum(a2, axis=0))\n",
        "print(np.cumsum(a2, axis=1))"
      ]
    },
    {
      "cell_type": "markdown",
      "metadata": {
        "id": "pVaJRWQ-LV0f"
      },
      "source": [
        "#### diff(): 차분 계산"
      ]
    },
    {
      "cell_type": "code",
      "execution_count": 339,
      "metadata": {
        "id": "yKjnWtGVLWJj"
      },
      "outputs": [
        {
          "name": "stdout",
          "output_type": "stream",
          "text": [
            "[[5 9 7]\n",
            " [1 3 5]\n",
            " [2 3 3]]\n",
            "---\n",
            "[[ 4 -2]\n",
            " [ 2  2]\n",
            " [ 1  0]]\n",
            "---\n",
            "[[-4 -6 -2]\n",
            " [ 1  0 -2]]\n",
            "---\n",
            "[[ 4 -2]\n",
            " [ 2  2]\n",
            " [ 1  0]]\n"
          ]
        }
      ],
      "source": [
        "print(a2)\n",
        "print('---')\n",
        "print(np.diff(a2))\n",
        "print('---')\n",
        "print(np.diff(a2, axis=0))\n",
        "print('---')\n",
        "print(np.diff(a2, axis=1))"
      ]
    },
    {
      "cell_type": "markdown",
      "metadata": {
        "id": "b6I38HfA9vGL"
      },
      "source": [
        "#### prod(): 곱 계산"
      ]
    },
    {
      "cell_type": "code",
      "execution_count": 340,
      "metadata": {
        "id": "rGPMXGe89y0O"
      },
      "outputs": [
        {
          "name": "stdout",
          "output_type": "stream",
          "text": [
            "[[5 9 7]\n",
            " [1 3 5]\n",
            " [2 3 3]]\n",
            "---\n",
            "85050\n",
            "---\n",
            "[ 10  81 105]\n",
            "---\n",
            "[315  15  18]\n"
          ]
        }
      ],
      "source": [
        "print(a2)\n",
        "print('---')\n",
        "print(np.prod(a2))\n",
        "print('---')\n",
        "print(np.prod(a2, axis=0))\n",
        "print('---')\n",
        "print(np.prod(a2, axis=1))"
      ]
    },
    {
      "cell_type": "markdown",
      "metadata": {
        "id": "RwaoVUGcKkkE"
      },
      "source": [
        "#### cumprod(): 누적곱 계산"
      ]
    },
    {
      "cell_type": "code",
      "execution_count": 341,
      "metadata": {
        "id": "jwYoX9inKk4D"
      },
      "outputs": [
        {
          "name": "stdout",
          "output_type": "stream",
          "text": [
            "[[5 9 7]\n",
            " [1 3 5]\n",
            " [2 3 3]]\n",
            "---\n",
            "[    5    45   315   315   945  4725  9450 28350 85050]\n",
            "---\n",
            "[[  5   9   7]\n",
            " [  5  27  35]\n",
            " [ 10  81 105]]\n",
            "---\n",
            "[[  5  45 315]\n",
            " [  1   3  15]\n",
            " [  2   6  18]]\n"
          ]
        }
      ],
      "source": [
        "print(a2)\n",
        "print('---')\n",
        "print(np.cumprod(a2))\n",
        "print('---')\n",
        "print(np.cumprod(a2, axis=0))\n",
        "print('---')\n",
        "print(np.cumprod(a2, axis=1))"
      ]
    },
    {
      "cell_type": "markdown",
      "metadata": {
        "id": "_LMAbL9hMV7T"
      },
      "source": [
        "#### dot()/matmul(): 점곱/행렬곱 계산"
      ]
    },
    {
      "cell_type": "code",
      "execution_count": 342,
      "metadata": {
        "id": "xC6FBzF0MWW1"
      },
      "outputs": [
        {
          "name": "stdout",
          "output_type": "stream",
          "text": [
            "[[5 9 7]\n",
            " [1 3 5]\n",
            " [2 3 3]]\n",
            "---\n",
            "[[1 1 1]\n",
            " [1 1 1]\n",
            " [1 1 1]]\n",
            "---\n",
            "[[21 21 21]\n",
            " [ 9  9  9]\n",
            " [ 8  8  8]]\n",
            "---\n",
            "[[21 21 21]\n",
            " [ 9  9  9]\n",
            " [ 8  8  8]]\n"
          ]
        }
      ],
      "source": [
        "print(a2)\n",
        "print('---')\n",
        "b2 = np.ones_like(a2)\n",
        "print(b2)\n",
        "print('---')\n",
        "print(np.dot(a2, b2))\n",
        "print('---')\n",
        "print(np.matmul(a2, b2))"
      ]
    },
    {
      "cell_type": "markdown",
      "metadata": {
        "id": "juVk3vnjPu31"
      },
      "source": [
        "#### tensordot(): 텐서곱 계산"
      ]
    },
    {
      "cell_type": "code",
      "execution_count": 343,
      "metadata": {
        "id": "3LrcLOcjPvNI"
      },
      "outputs": [
        {
          "name": "stdout",
          "output_type": "stream",
          "text": [
            "[[5 9 7]\n",
            " [1 3 5]\n",
            " [2 3 3]]\n",
            "---\n",
            "[[1 1 1]\n",
            " [1 1 1]\n",
            " [1 1 1]]\n",
            "---\n",
            "38\n",
            "---\n",
            "[[[[5 5 5]\n",
            "   [5 5 5]\n",
            "   [5 5 5]]\n",
            "\n",
            "  [[9 9 9]\n",
            "   [9 9 9]\n",
            "   [9 9 9]]\n",
            "\n",
            "  [[7 7 7]\n",
            "   [7 7 7]\n",
            "   [7 7 7]]]\n",
            "\n",
            "\n",
            " [[[1 1 1]\n",
            "   [1 1 1]\n",
            "   [1 1 1]]\n",
            "\n",
            "  [[3 3 3]\n",
            "   [3 3 3]\n",
            "   [3 3 3]]\n",
            "\n",
            "  [[5 5 5]\n",
            "   [5 5 5]\n",
            "   [5 5 5]]]\n",
            "\n",
            "\n",
            " [[[2 2 2]\n",
            "   [2 2 2]\n",
            "   [2 2 2]]\n",
            "\n",
            "  [[3 3 3]\n",
            "   [3 3 3]\n",
            "   [3 3 3]]\n",
            "\n",
            "  [[3 3 3]\n",
            "   [3 3 3]\n",
            "   [3 3 3]]]]\n",
            "---\n",
            "[[21 21 21]\n",
            " [ 9  9  9]\n",
            " [ 8  8  8]]\n"
          ]
        }
      ],
      "source": [
        "print(a2)\n",
        "print('---')\n",
        "print(b2)\n",
        "print('---')\n",
        "print(np.tensordot(a2, b2))\n",
        "print('---')\n",
        "print(np.tensordot(a2, b2, axes=0))\n",
        "print('---')\n",
        "print(np.tensordot(a2, b2, axes=1))"
      ]
    },
    {
      "cell_type": "markdown",
      "metadata": {
        "id": "UzmZhB5TNRMX"
      },
      "source": [
        "#### cross(): 벡터곱"
      ]
    },
    {
      "cell_type": "code",
      "execution_count": 344,
      "metadata": {
        "id": "xvT2hy1FNRkU"
      },
      "outputs": [
        {
          "name": "stdout",
          "output_type": "stream",
          "text": [
            "[-3  6 -3]\n"
          ]
        }
      ],
      "source": [
        "x = [1, 2, 3]\n",
        "y = [4, 5 ,6]\n",
        "print(np.cross(x, y))"
      ]
    },
    {
      "cell_type": "markdown",
      "metadata": {
        "id": "SJVYmtrSO5YL"
      },
      "source": [
        "#### inner()/outer(): 내적/외적"
      ]
    },
    {
      "cell_type": "code",
      "execution_count": 345,
      "metadata": {
        "id": "HJpomax7O5s6"
      },
      "outputs": [
        {
          "name": "stdout",
          "output_type": "stream",
          "text": [
            "[[5 9 7]\n",
            " [1 3 5]\n",
            " [2 3 3]]\n",
            "[[1 1 1]\n",
            " [1 1 1]\n",
            " [1 1 1]]\n",
            "[[21 21 21]\n",
            " [ 9  9  9]\n",
            " [ 8  8  8]]\n",
            "[[5 5 5 5 5 5 5 5 5]\n",
            " [9 9 9 9 9 9 9 9 9]\n",
            " [7 7 7 7 7 7 7 7 7]\n",
            " [1 1 1 1 1 1 1 1 1]\n",
            " [3 3 3 3 3 3 3 3 3]\n",
            " [5 5 5 5 5 5 5 5 5]\n",
            " [2 2 2 2 2 2 2 2 2]\n",
            " [3 3 3 3 3 3 3 3 3]\n",
            " [3 3 3 3 3 3 3 3 3]]\n"
          ]
        }
      ],
      "source": [
        "print(a2)\n",
        "print(b2)\n",
        "print(np.inner(a2, b2))\n",
        "print(np.outer(a2, b2))"
      ]
    },
    {
      "cell_type": "markdown",
      "metadata": {
        "id": "9CIotQgI_RQ-"
      },
      "source": [
        "#### mean(): 평균 계산"
      ]
    },
    {
      "cell_type": "code",
      "execution_count": 346,
      "metadata": {
        "id": "g96wAEOT_bUk"
      },
      "outputs": [
        {
          "name": "stdout",
          "output_type": "stream",
          "text": [
            "[[5 9 7]\n",
            " [1 3 5]\n",
            " [2 3 3]]\n",
            "4.222222222222222\n",
            "[2.66666667 5.         5.        ]\n",
            "[7.         3.         2.66666667]\n"
          ]
        }
      ],
      "source": [
        "print(a2)\n",
        "print(np.mean(a2))\n",
        "print(np.mean(a2, axis=0))\n",
        "print(np.mean(a2, axis=1))"
      ]
    },
    {
      "cell_type": "markdown",
      "metadata": {
        "id": "wAG_zijP_Z5o"
      },
      "source": [
        "#### std(): 표준 편차 계산"
      ]
    },
    {
      "cell_type": "code",
      "execution_count": 347,
      "metadata": {
        "id": "hlpnuyug_TXA"
      },
      "outputs": [
        {
          "name": "stdout",
          "output_type": "stream",
          "text": [
            "[[5 9 7]\n",
            " [1 3 5]\n",
            " [2 3 3]]\n",
            "1\n",
            "[1 3 3]\n",
            "[5 1 2]\n"
          ]
        }
      ],
      "source": [
        "print(a2)\n",
        "print(np.min(a2))\n",
        "print(np.min(a2, axis=0))\n",
        "print(np.min(a2, axis=1))"
      ]
    },
    {
      "cell_type": "markdown",
      "metadata": {
        "id": "5FFTCCDaAEhx"
      },
      "source": [
        "#### var(): 분산 계산"
      ]
    },
    {
      "cell_type": "code",
      "execution_count": 348,
      "metadata": {
        "id": "CRMNkSdzAGZG"
      },
      "outputs": [
        {
          "name": "stdout",
          "output_type": "stream",
          "text": [
            "[[5 9 7]\n",
            " [1 3 5]\n",
            " [2 3 3]]\n",
            "5.728395061728396\n",
            "[2.88888889 8.         2.66666667]\n",
            "[2.66666667 2.66666667 0.22222222]\n"
          ]
        }
      ],
      "source": [
        "print(a2)\n",
        "print(np.var(a2))\n",
        "print(np.var(a2, axis=0))\n",
        "print(np.var(a2, axis=1))"
      ]
    },
    {
      "cell_type": "markdown",
      "metadata": {
        "id": "QFeh-4tmCCrU"
      },
      "source": [
        "#### min(): 최소값"
      ]
    },
    {
      "cell_type": "code",
      "execution_count": 349,
      "metadata": {
        "id": "SMNCfYBQCEtf"
      },
      "outputs": [
        {
          "name": "stdout",
          "output_type": "stream",
          "text": [
            "[[5 9 7]\n",
            " [1 3 5]\n",
            " [2 3 3]]\n",
            "1\n",
            "[1 3 3]\n",
            "[5 1 2]\n"
          ]
        }
      ],
      "source": [
        "print(a2)\n",
        "print(np.min(a2))\n",
        "print(np.min(a2, axis=0))\n",
        "print(np.min(a2, axis=1))"
      ]
    },
    {
      "cell_type": "markdown",
      "metadata": {
        "id": "A3n_JBnBJ2bo"
      },
      "source": [
        "#### max(): 최대값"
      ]
    },
    {
      "cell_type": "code",
      "execution_count": 350,
      "metadata": {
        "id": "FmuOFKGAJ6Pf"
      },
      "outputs": [
        {
          "name": "stdout",
          "output_type": "stream",
          "text": [
            "[[5 9 7]\n",
            " [1 3 5]\n",
            " [2 3 3]]\n",
            "9\n",
            "[5 9 7]\n",
            "[9 5 3]\n"
          ]
        }
      ],
      "source": [
        "print(a2)\n",
        "print(np.max(a2))\n",
        "print(np.max(a2, axis=0))\n",
        "print(np.max(a2, axis=1))"
      ]
    },
    {
      "cell_type": "markdown",
      "metadata": {
        "id": "PvGOKDP0J_5b"
      },
      "source": [
        "#### argmin(): 최소값 인덱스"
      ]
    },
    {
      "cell_type": "code",
      "execution_count": 351,
      "metadata": {
        "id": "1ILP7L3yKCqA"
      },
      "outputs": [
        {
          "name": "stdout",
          "output_type": "stream",
          "text": [
            "[[5 9 7]\n",
            " [1 3 5]\n",
            " [2 3 3]]\n",
            "3\n",
            "[1 1 2]\n",
            "[0 0 0]\n"
          ]
        }
      ],
      "source": [
        "print(a2)\n",
        "print(np.argmin(a2)) #위치 값을 출력함.\n",
        "print(np.argmin(a2, axis=0))\n",
        "print(np.argmin(a2, axis=1))"
      ]
    },
    {
      "cell_type": "markdown",
      "metadata": {
        "id": "23IcSctIKbUa"
      },
      "source": [
        "#### argmax(): 최대값 인덱스"
      ]
    },
    {
      "cell_type": "code",
      "execution_count": 352,
      "metadata": {
        "id": "2m21cfCFKd-Q"
      },
      "outputs": [
        {
          "name": "stdout",
          "output_type": "stream",
          "text": [
            "[[5 9 7]\n",
            " [1 3 5]\n",
            " [2 3 3]]\n",
            "1\n",
            "[0 0 0]\n",
            "[1 2 1]\n"
          ]
        }
      ],
      "source": [
        "print(a2)\n",
        "print(np.argmax(a2))\n",
        "print(np.argmax(a2, axis=0))\n",
        "print(np.argmax(a2, axis=1))"
      ]
    },
    {
      "cell_type": "markdown",
      "metadata": {
        "id": "3TjeNFQLKuZb"
      },
      "source": [
        "#### median(): 중앙값"
      ]
    },
    {
      "cell_type": "code",
      "execution_count": 353,
      "metadata": {
        "id": "kSLN17bpKwv6"
      },
      "outputs": [
        {
          "name": "stdout",
          "output_type": "stream",
          "text": [
            "[[5 9 7]\n",
            " [1 3 5]\n",
            " [2 3 3]]\n",
            "3.0\n",
            "[2. 3. 5.]\n",
            "[7. 3. 3.]\n"
          ]
        }
      ],
      "source": [
        "print(a2)\n",
        "print(np.median(a2))\n",
        "print(np.median(a2, axis=0))\n",
        "print(np.median(a2, axis=1))"
      ]
    },
    {
      "cell_type": "markdown",
      "metadata": {
        "id": "df-Id-nhLs3L"
      },
      "source": [
        "#### percentile(): 백분위 수\n",
        "\n"
      ]
    },
    {
      "cell_type": "code",
      "execution_count": 354,
      "metadata": {
        "id": "N-TCx9hnLvhK"
      },
      "outputs": [
        {
          "name": "stdout",
          "output_type": "stream",
          "text": [
            "[0 1 2 3]\n",
            "[0.  0.6 1.2 1.8 2.4 3. ]\n",
            "[0 1 2 2 3 3]\n",
            "[0 0 1 1 2 3]\n",
            "[0 1 1 2 2 3]\n",
            "[0.  0.5 1.5 1.5 2.5 3. ]\n"
          ]
        }
      ],
      "source": [
        "a1 = np.array([0, 1, 2, 3]) #영상 1:52:00 보기!!\n",
        "print(a1)\n",
        "print(np.percentile(a1, [0, 20, 40, 60, 80, 100], interpolation='linear'))\n",
        "print(np.percentile(a1, [0, 20, 40, 60, 80, 100], interpolation='higher'))\n",
        "print(np.percentile(a1, [0, 20, 40, 60, 80, 100], interpolation='lower'))\n",
        "print(np.percentile(a1, [0, 20, 40, 60, 80, 100], interpolation='nearest'))\n",
        "print(np.percentile(a1, [0, 20, 40, 60, 80, 100], interpolation='midpoint'))"
      ]
    },
    {
      "cell_type": "markdown",
      "metadata": {
        "id": "x0NnNsvvNDIs"
      },
      "source": [
        "#### any()"
      ]
    },
    {
      "cell_type": "code",
      "execution_count": 355,
      "metadata": {
        "id": "I1XDqsFxOMvA"
      },
      "outputs": [
        {
          "name": "stdout",
          "output_type": "stream",
          "text": [
            "[[False False False]\n",
            " [False  True  True]\n",
            " [False  True  True]]\n",
            "True\n",
            "[False  True  True]\n",
            "[False  True  True]\n"
          ]
        }
      ],
      "source": [
        "a2 = np.array([[False, False, False],\n",
        "              [False, True, True],\n",
        "              [False, True, True]])\n",
        "print(a2)\n",
        "print(np.any(a2))\n",
        "print(np.any(a2, axis=0))\n",
        "print(np.any(a2, axis=1))"
      ]
    },
    {
      "cell_type": "markdown",
      "metadata": {
        "id": "Uw-wjYgyONBZ"
      },
      "source": [
        "#### all()"
      ]
    },
    {
      "cell_type": "code",
      "execution_count": 356,
      "metadata": {
        "id": "sXi2AHOHONYq"
      },
      "outputs": [
        {
          "name": "stdout",
          "output_type": "stream",
          "text": [
            "[[False False  True]\n",
            " [ True  True  True]\n",
            " [False  True  True]]\n",
            "False\n",
            "[False False  True]\n",
            "[False  True False]\n"
          ]
        }
      ],
      "source": [
        "a2 = np.array([[False, False, True],\n",
        "              [True, True, True],\n",
        "              [False, True, True]])\n",
        "print(a2)\n",
        "print(np.all(a2))\n",
        "print(np.all(a2, axis=0))\n",
        "print(np.all(a2, axis=1))"
      ]
    },
    {
      "cell_type": "markdown",
      "metadata": {
        "id": "0n7lgzmUwqr1"
      },
      "source": [
        "### 비교 연산(Comparison Operators)\n"
      ]
    },
    {
      "cell_type": "code",
      "execution_count": 357,
      "metadata": {
        "id": "E00V-nBTVnCu"
      },
      "outputs": [
        {
          "name": "stdout",
          "output_type": "stream",
          "text": [
            "[1 2 3 4 5 6 7 8 9]\n",
            "[False False False False  True False False False False]\n",
            "[ True  True  True  True False  True  True  True  True]\n",
            "[ True  True  True  True False False False False False]\n",
            "[ True  True  True  True  True False False False False]\n",
            "[False False False False False  True  True  True  True]\n",
            "[False False False False  True  True  True  True  True]\n"
          ]
        }
      ],
      "source": [
        "a1 = np.arange(1, 10)\n",
        "print(a1)\n",
        "print(a1 == 5)\n",
        "print(a1 != 5)\n",
        "print(a1 < 5)\n",
        "print(a1 <= 5)\n",
        "print(a1 > 5)\n",
        "print(a1 >= 5)"
      ]
    },
    {
      "cell_type": "code",
      "execution_count": 358,
      "metadata": {
        "id": "3MwV1CU1WsWS"
      },
      "outputs": [
        {
          "name": "stdout",
          "output_type": "stream",
          "text": [
            "[[1 2 3]\n",
            " [4 5 6]\n",
            " [7 8 9]]\n",
            "---\n",
            "45\n",
            "---\n",
            "4\n",
            "---\n",
            "4\n",
            "---\n",
            "[1 1 2]\n",
            "---\n",
            "[0 1 3]\n",
            "---\n",
            "True\n",
            "---\n",
            "[ True  True  True]\n",
            "---\n",
            "[False  True  True]\n",
            "---\n",
            "False\n",
            "---\n",
            "[False False False]\n",
            "---\n",
            "[False False  True]\n"
          ]
        }
      ],
      "source": [
        "a2 = np.arange(1, 10).reshape(3, 3)\n",
        "print(a2)\n",
        "print('---')\n",
        "print(np.sum(a2))\n",
        "print('---')\n",
        "print(np.count_nonzero(a2 > 5)) #5이상인거의 0이 아닌 것의 개수.\n",
        "print('---')\n",
        "print(np.sum(a2 > 5)) #조건을 만족하는 개수.\n",
        "print('---')\n",
        "print(np.sum(a2 > 5, axis=0))\n",
        "print('---')\n",
        "print(np.sum(a2 > 5, axis=1))\n",
        "print('---')\n",
        "print(np.any(a2 > 5)) #하나라도 만족?\n",
        "print('---')\n",
        "print(np.any(a2 > 5, axis=0))\n",
        "print('---')\n",
        "print(np.any(a2 > 5, axis=1))\n",
        "print('---')\n",
        "print(np.all(a2 > 5)) #모두가 만족?\n",
        "print('---')\n",
        "print(np.all(a2 > 5, axis=0))\n",
        "print('---')\n",
        "print(np.all(a2 > 5, axis=1))"
      ]
    },
    {
      "cell_type": "code",
      "execution_count": 359,
      "metadata": {
        "id": "D4cuMoyEPn8R"
      },
      "outputs": [
        {
          "name": "stdout",
          "output_type": "stream",
          "text": [
            "[1 2 3 4 5]\n",
            "[1 2 3 3 4]\n",
            "[ True  True  True False False]\n"
          ]
        }
      ],
      "source": [
        "a1 = np.array([1, 2, 3, 4, 5])\n",
        "print(a1)\n",
        "b1 = np.array([1, 2, 3, 3, 4])\n",
        "print(b1)\n",
        "print(np.isclose(a1, b1))"
      ]
    },
    {
      "cell_type": "code",
      "execution_count": 360,
      "metadata": {
        "id": "af9VSc6FyMBh"
      },
      "outputs": [
        {
          "name": "stdout",
          "output_type": "stream",
          "text": [
            "[ nan   2.  inf   4. -inf]\n",
            "[ True False False False False]\n",
            "[False False  True False  True]\n",
            "[False  True False  True False]\n"
          ]
        }
      ],
      "source": [
        "a1 = np.array([np.nan, 2, np.inf, 4, np.NINF]) #nan:숫자가 아님, inf:무한, NINF:음의 무한\n",
        "print(a1)\n",
        "print(np.isnan(a1)) #숫자가 아닌 것\n",
        "print(np.isinf(a1)) #무한\n",
        "print(np.isfinite(a1)) #유한"
      ]
    },
    {
      "cell_type": "markdown",
      "metadata": {
        "id": "4BHMetMlYmt-"
      },
      "source": [
        "#### 불리언 연산자(Boolean Operators)\n"
      ]
    },
    {
      "cell_type": "code",
      "execution_count": 361,
      "metadata": {
        "id": "ZV1-8DkUHOZq"
      },
      "outputs": [
        {
          "name": "stdout",
          "output_type": "stream",
          "text": [
            "[[1 2 3]\n",
            " [4 5 6]\n",
            " [7 8 9]]\n",
            "---\n",
            "[[False False False]\n",
            " [False False  True]\n",
            " [ True False False]]\n",
            "---\n",
            "[6 7]\n",
            "---\n",
            "[[ True  True  True]\n",
            " [ True  True  True]\n",
            " [ True  True  True]]\n",
            "---\n",
            "[1 2 3 4 5 6 7 8 9]\n",
            "---\n",
            "[[ True  True  True]\n",
            " [ True  True False]\n",
            " [False  True  True]]\n",
            "---\n",
            "[1 2 3 4 5 8 9]\n",
            "---\n",
            "[[ True  True  True]\n",
            " [ True  True False]\n",
            " [False False False]]\n",
            "---\n",
            "[1 2 3 4 5]\n"
          ]
        }
      ],
      "source": [
        "a2 = np.arange(1, 10).reshape(3, 3)\n",
        "print(a2)\n",
        "print('---')\n",
        "print((a2 > 5) & (a2 < 8))\n",
        "print('---')\n",
        "print(a2[(a2 > 5) & (a2 < 8)])\n",
        "print('---')\n",
        "print((a2 > 5) | (a2 < 8))\n",
        "print('---')\n",
        "print(a2[(a2 > 5) | (a2 < 8)])\n",
        "print('---')\n",
        "print((a2 > 5) ^ (a2 < 8))\n",
        "print('---')\n",
        "print(a2[(a2 > 5) ^ (a2 < 8)])\n",
        "print('---')\n",
        "print(~(a2 > 5))\n",
        "print('---')\n",
        "print(a2[~(a2 > 5)])"
      ]
    },
    {
      "cell_type": "markdown",
      "metadata": {
        "id": "FlQJVeGBxIFw"
      },
      "source": [
        "### 배열 정렬"
      ]
    },
    {
      "cell_type": "code",
      "execution_count": 362,
      "metadata": {
        "id": "x0sodUMqLU37"
      },
      "outputs": [
        {
          "name": "stdout",
          "output_type": "stream",
          "text": [
            "[3 6 9 5 6 7 3 8 2 2]\n",
            "[2 2 3 3 5 6 6 7 8 9]\n",
            "[3 6 9 5 6 7 3 8 2 2]\n",
            "[8 9 0 6 3 1 4 5 7 2]\n",
            "None\n",
            "[2 2 3 3 5 6 6 7 8 9]\n"
          ]
        }
      ],
      "source": [
        "a1 = np.random.randint(1, 10, size=10)\n",
        "print(a1)\n",
        "print(np.sort(a1)) #정렬\n",
        "print(a1) #원본 유지\n",
        "print(np.argsort(a1)) #~번째가 n번 위치에 와야 한다.\n",
        "print(a1.sort()) #원본을 정렬함.\n",
        "print(a1)"
      ]
    },
    {
      "cell_type": "code",
      "execution_count": 363,
      "metadata": {
        "id": "FO_sO5POzeMp"
      },
      "outputs": [
        {
          "name": "stdout",
          "output_type": "stream",
          "text": [
            "[[3 2 8]\n",
            " [1 4 5]\n",
            " [9 3 1]]\n",
            "[[1 2 1]\n",
            " [3 3 5]\n",
            " [9 4 8]]\n",
            "[[2 3 8]\n",
            " [1 4 5]\n",
            " [1 3 9]]\n"
          ]
        }
      ],
      "source": [
        "a2 = np.random.randint(1, 10, size=(3, 3))\n",
        "print(a2)\n",
        "print(np.sort(a2, axis=0))\n",
        "print(np.sort(a2, axis=1))"
      ]
    },
    {
      "cell_type": "markdown",
      "metadata": {
        "id": "yYSItPz_00sZ"
      },
      "source": [
        "#### 부분 정렬\n",
        "\n",
        "* `partition()`: 배열에서 k개의 작은 값을 반환"
      ]
    },
    {
      "cell_type": "code",
      "execution_count": 364,
      "metadata": {
        "id": "QQwov4N00YFP"
      },
      "outputs": [
        {
          "name": "stdout",
          "output_type": "stream",
          "text": [
            "[3 4 6 8 4 9 9 4 3 4]\n",
            "--\n",
            "[4 3 3 4 4 9 9 8 6 4]\n"
          ]
        }
      ],
      "source": [
        "a1 = np.random.randint(1, 10, size=10)\n",
        "print(a1)\n",
        "print('--')\n",
        "print(np.partition(a1, 3))\n"
      ]
    },
    {
      "cell_type": "code",
      "execution_count": 365,
      "metadata": {},
      "outputs": [
        {
          "name": "stdout",
          "output_type": "stream",
          "text": [
            "[[1 3 7 5 5]\n",
            " [4 1 2 4 3]\n",
            " [5 8 8 4 8]\n",
            " [4 3 4 2 9]\n",
            " [1 1 2 5 1]]\n",
            "---\n",
            "[[3 1 5 5 7]\n",
            " [1 2 3 4 4]\n",
            " [4 5 8 8 8]\n",
            " [2 4 3 4 9]\n",
            " [1 1 1 2 5]]\n",
            "---\n",
            "[[1 1 4 2 3]\n",
            " [1 1 2 4 1]\n",
            " [4 3 2 4 5]\n",
            " [4 3 7 5 8]\n",
            " [5 8 8 5 9]]\n",
            "---\n",
            "[[3 1 5 5 7]\n",
            " [1 2 3 4 4]\n",
            " [4 5 8 8 8]\n",
            " [2 4 3 4 9]\n",
            " [1 1 1 2 5]]\n"
          ]
        }
      ],
      "source": [
        "a2 = np.random.randint(1, 10, size=(5, 5))\n",
        "print(a2)\n",
        "print('---')\n",
        "print(np.partition(a2, 3))\n",
        "print('---')\n",
        "print(np.partition(a2, 3, axis=0))\n",
        "print('---')\n",
        "print(np.partition(a2, 3, axis=1))"
      ]
    },
    {
      "cell_type": "markdown",
      "metadata": {
        "id": "77DSA72ML5cI"
      },
      "source": [
        "## 배열 입출력\n"
      ]
    },
    {
      "cell_type": "code",
      "execution_count": 367,
      "metadata": {
        "id": "da-Mm_gzIs7U"
      },
      "outputs": [
        {
          "name": "stdout",
          "output_type": "stream",
          "text": [
            "[[3 9 6 2 4]\n",
            " [2 2 7 9 2]\n",
            " [4 3 3 9 7]\n",
            " [1 4 6 9 4]\n",
            " [4 1 9 7 6]]\n"
          ]
        }
      ],
      "source": [
        "a2 = np.random.randint(1, 10, size=(5, 5))\n",
        "print(a2)\n",
        "np.save(\"a\", a2)"
      ]
    },
    {
      "cell_type": "code",
      "execution_count": 369,
      "metadata": {
        "colab": {
          "base_uri": "https://localhost:8080/",
          "height": 34
        },
        "id": "pFOWyDvAsf11",
        "outputId": "8be0a298-07ab-4526-e9d4-2796faadee9a"
      },
      "outputs": [
        {
          "name": "stdout",
          "output_type": "stream",
          "text": [
            "a.npy                  numpy_study_file.ipynb\n"
          ]
        }
      ],
      "source": [
        "!ls"
      ]
    },
    {
      "cell_type": "code",
      "execution_count": 371,
      "metadata": {
        "id": "Hvb_ilyisoIV"
      },
      "outputs": [
        {
          "name": "stdout",
          "output_type": "stream",
          "text": [
            "[[6 7 2 2 6]\n",
            " [5 8 7 4 4]\n",
            " [9 4 7 7 7]\n",
            " [5 8 2 7 9]\n",
            " [6 6 8 9 3]]\n"
          ]
        }
      ],
      "source": [
        "b2 = np.random.randint(1, 10, size=(5, 5))\n",
        "print(b2)\n",
        "np.savez(\"ab\", a2, b2)"
      ]
    },
    {
      "cell_type": "code",
      "execution_count": 372,
      "metadata": {
        "id": "ArWZfL31s1wU"
      },
      "outputs": [
        {
          "name": "stdout",
          "output_type": "stream",
          "text": [
            "a.npy                  ab.npz                 numpy_study_file.ipynb\n"
          ]
        }
      ],
      "source": [
        "!ls"
      ]
    },
    {
      "cell_type": "code",
      "execution_count": 373,
      "metadata": {
        "id": "che4cEJEs2Tr"
      },
      "outputs": [
        {
          "name": "stdout",
          "output_type": "stream",
          "text": [
            "[[3 9 6 2 4]\n",
            " [2 2 7 9 2]\n",
            " [4 3 3 9 7]\n",
            " [1 4 6 9 4]\n",
            " [4 1 9 7 6]]\n"
          ]
        }
      ],
      "source": [
        "npy = np.load(\"a.npy\")\n",
        "print(npy)"
      ]
    },
    {
      "cell_type": "code",
      "execution_count": 383,
      "metadata": {
        "id": "X2yIUsYvtMj6"
      },
      "outputs": [
        {
          "name": "stdout",
          "output_type": "stream",
          "text": [
            "['arr_0', 'arr_1']\n",
            "[[3 9 6 2 4]\n",
            " [2 2 7 9 2]\n",
            " [4 3 3 9 7]\n",
            " [1 4 6 9 4]\n",
            " [4 1 9 7 6]]\n",
            "---\n",
            "[[6 7 2 2 6]\n",
            " [5 8 7 4 4]\n",
            " [9 4 7 7 7]\n",
            " [5 8 2 7 9]\n",
            " [6 6 8 9 3]]\n"
          ]
        }
      ],
      "source": [
        "npz = np.load(\"ab.npz\")\n",
        "print(npz.files)\n",
        "print(npz['arr_0'])\n",
        "print('---')\n",
        "print(npz['arr_1'])"
      ]
    },
    {
      "cell_type": "code",
      "execution_count": 384,
      "metadata": {
        "id": "Yj5ec-CYtaH1"
      },
      "outputs": [
        {
          "name": "stdout",
          "output_type": "stream",
          "text": [
            "[[3 9 6 2 4]\n",
            " [2 2 7 9 2]\n",
            " [4 3 3 9 7]\n",
            " [1 4 6 9 4]\n",
            " [4 1 9 7 6]]\n"
          ]
        }
      ],
      "source": [
        "print(a2)\n",
        "np.savetxt(\"a.csv\", a2, delimiter=',') #delimiter = 구분자"
      ]
    },
    {
      "cell_type": "code",
      "execution_count": 385,
      "metadata": {
        "id": "_NIDrc-VuPmv"
      },
      "outputs": [
        {
          "name": "stdout",
          "output_type": "stream",
          "text": [
            "a.csv                  ab.npz\n",
            "a.npy                  numpy_study_file.ipynb\n"
          ]
        }
      ],
      "source": [
        "!ls"
      ]
    },
    {
      "cell_type": "code",
      "execution_count": 386,
      "metadata": {
        "id": "bPhmIoVBuQMf"
      },
      "outputs": [
        {
          "name": "stdout",
          "output_type": "stream",
          "text": [
            "3.000000000000000000e+00,9.000000000000000000e+00,6.000000000000000000e+00,2.000000000000000000e+00,4.000000000000000000e+00\n",
            "2.000000000000000000e+00,2.000000000000000000e+00,7.000000000000000000e+00,9.000000000000000000e+00,2.000000000000000000e+00\n",
            "4.000000000000000000e+00,3.000000000000000000e+00,3.000000000000000000e+00,9.000000000000000000e+00,7.000000000000000000e+00\n",
            "1.000000000000000000e+00,4.000000000000000000e+00,6.000000000000000000e+00,9.000000000000000000e+00,4.000000000000000000e+00\n",
            "4.000000000000000000e+00,1.000000000000000000e+00,9.000000000000000000e+00,7.000000000000000000e+00,6.000000000000000000e+00\n"
          ]
        }
      ],
      "source": [
        "!cat a.csv"
      ]
    },
    {
      "cell_type": "code",
      "execution_count": 387,
      "metadata": {
        "id": "FeB2p4azuTDv"
      },
      "outputs": [
        {
          "name": "stdout",
          "output_type": "stream",
          "text": [
            "[[3. 9. 6. 2. 4.]\n",
            " [2. 2. 7. 9. 2.]\n",
            " [4. 3. 3. 9. 7.]\n",
            " [1. 4. 6. 9. 4.]\n",
            " [4. 1. 9. 7. 6.]]\n"
          ]
        }
      ],
      "source": [
        "csv = np.loadtxt(\"a.csv\", delimiter=',')\n",
        "print(csv)"
      ]
    },
    {
      "cell_type": "code",
      "execution_count": 388,
      "metadata": {
        "id": "IUg8Vg4fuxR5"
      },
      "outputs": [
        {
          "name": "stdout",
          "output_type": "stream",
          "text": [
            "[[6 7 2 2 6]\n",
            " [5 8 7 4 4]\n",
            " [9 4 7 7 7]\n",
            " [5 8 2 7 9]\n",
            " [6 6 8 9 3]]\n"
          ]
        }
      ],
      "source": [
        "print(b2)\n",
        "np.savetxt(\"b.csv\", b2, delimiter=',', fmt='%.2e', header='c1, c2, c3, c4, c5') #fmt='%.2e' = 소수점 둘째 자리"
      ]
    },
    {
      "cell_type": "code",
      "execution_count": 389,
      "metadata": {
        "id": "lIK5dSv6vtm2"
      },
      "outputs": [
        {
          "name": "stdout",
          "output_type": "stream",
          "text": [
            "# c1, c2, c3, c4, c5\n",
            "6.00e+00,7.00e+00,2.00e+00,2.00e+00,6.00e+00\n",
            "5.00e+00,8.00e+00,7.00e+00,4.00e+00,4.00e+00\n",
            "9.00e+00,4.00e+00,7.00e+00,7.00e+00,7.00e+00\n",
            "5.00e+00,8.00e+00,2.00e+00,7.00e+00,9.00e+00\n",
            "6.00e+00,6.00e+00,8.00e+00,9.00e+00,3.00e+00\n"
          ]
        }
      ],
      "source": [
        "!cat b.csv"
      ]
    },
    {
      "cell_type": "code",
      "execution_count": 390,
      "metadata": {
        "id": "l4O-gVxdv8-d"
      },
      "outputs": [
        {
          "name": "stdout",
          "output_type": "stream",
          "text": [
            "[[6. 7. 2. 2. 6.]\n",
            " [5. 8. 7. 4. 4.]\n",
            " [9. 4. 7. 7. 7.]\n",
            " [5. 8. 2. 7. 9.]\n",
            " [6. 6. 8. 9. 3.]]\n"
          ]
        }
      ],
      "source": [
        "csv = np.loadtxt('b.csv', delimiter=',')\n",
        "print(csv)"
      ]
    },
    {
      "cell_type": "markdown",
      "metadata": {
        "id": "JM2Ghx2NGloN"
      },
      "source": [
        "\n",
        "\n",
        "---\n",
        "\n"
      ]
    }
  ],
  "metadata": {
    "colab": {
      "collapsed_sections": [],
      "name": "_NumPy 한번에 제대로 배우기.ipynb의 사본",
      "provenance": [],
      "toc_visible": true
    },
    "kernelspec": {
      "display_name": "Python 3.8.5 64-bit ('cv': conda)",
      "metadata": {
        "interpreter": {
          "hash": "a020df2364c1e221c98826728800383d83f0de1ed4867ebcf96b7bdcd89e3f89"
        }
      },
      "name": "python3"
    },
    "language_info": {
      "codemirror_mode": {
        "name": "ipython",
        "version": 3
      },
      "file_extension": ".py",
      "mimetype": "text/x-python",
      "name": "python",
      "nbconvert_exporter": "python",
      "pygments_lexer": "ipython3",
      "version": "3.8.5"
    }
  },
  "nbformat": 4,
  "nbformat_minor": 0
}