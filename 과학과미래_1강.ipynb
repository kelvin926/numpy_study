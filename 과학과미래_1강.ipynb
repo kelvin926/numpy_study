{
  "nbformat": 4,
  "nbformat_minor": 0,
  "metadata": {
    "colab": {
      "name": "과학과 미래_1강_데이터 이해의 사본",
      "provenance": [],
      "collapsed_sections": [
        "wf4Bb5v_phqP",
        "gcDwO8duNx3j",
        "LjwgUMxkdhkZ",
        "tw-udRNltduk",
        "MhuIJ5q68-4q"
      ]
    },
    "kernelspec": {
      "name": "python3",
      "display_name": "Python 3"
    }
  },
  "cells": [
    {
      "cell_type": "markdown",
      "metadata": {
        "id": "l5oicLUwD90C"
      },
      "source": [
        "파일 > 드라이브에 사본저장하기 \n",
        "하여 사본 파일로 실습 진행하기 바랍니다.\n",
        "\n",
        "\n",
        "(해당파일은 구글 드라이브 colab notebooks 에 저장됩니다.)"
      ]
    },
    {
      "cell_type": "markdown",
      "metadata": {
        "id": "XiS5XomyoYVt"
      },
      "source": [
        "# Python \n",
        "\n",
        "Python is an interpreted, high-level, general-purpose programming language.\n",
        "\n",
        "Colaboratory(또는 줄여서 'Colab')를 사용하면 브라우저에서 Python을 작성하고 실행할 수 있습니다.\n",
        "*   구성 필요 없음\n",
        "*   GPU 무료 액세스\n",
        "*   간편한 공유\n",
        "\n",
        "https://colab.research.google.com/notebooks/intro.ipynb#\n",
        "\n"
      ]
    },
    {
      "cell_type": "markdown",
      "metadata": {
        "id": "wf4Bb5v_phqP"
      },
      "source": [
        "# 데이터 생성 및 시각화\n",
        "\n",
        "numpy를 사용하여 임의의 데이터를 생성하고 matplotlib으로 이를 시각화합니다. "
      ]
    },
    {
      "cell_type": "code",
      "metadata": {
        "id": "neP1qds_pezG",
        "colab": {
          "base_uri": "https://localhost:8080/",
          "height": 281
        },
        "outputId": "27aa6bbc-750c-48f1-b320-ab41e43b68d3"
      },
      "source": [
        "#@title\n",
        "import numpy as np\n",
        "from matplotlib import pyplot as plt\n",
        "\n",
        "ys = 200 + np.random.randn(100)\n",
        "x = [x for x in range(len(ys))]\n",
        "\n",
        "plt.plot(x, ys, '-')\n",
        "plt.fill_between(x, ys, 195, where=(ys > 195), facecolor='g', alpha=0.6)\n",
        "\n",
        "plt.title(\"Sample Visualization\")\n",
        "plt.show()"
      ],
      "execution_count": null,
      "outputs": [
        {
          "output_type": "display_data",
          "data": {
            "image/png": "[encoded data removed]",
            "text/plain": [
              "<Figure size 432x288 with 1 Axes>"
            ]
          },
          "metadata": {
            "needs_background": "light"
          }
        }
      ]
    },
    {
      "cell_type": "markdown",
      "metadata": {
        "id": "gcDwO8duNx3j"
      },
      "source": [
        "#Array\n",
        "\n",
        "Array from NumPy\n",
        "\n",
        "NumPy provides multidimensional array of numbers. (which is actually an object)\n",
        "\n",
        "https://docs.scipy.org/doc/numpy-1.15.1/user/quickstart.html"
      ]
    },
    {
      "cell_type": "code",
      "metadata": {
        "id": "erNReD0dqJN0"
      },
      "source": [
        "import numpy as np\n",
        "np.random.seed(0)  # seed for reproducibility\n",
        "\n",
        "arr1 = np.random.randint(10, size=6)  # One-dimensional array\n",
        "arr2 = np.random.randint(10, size=(3, 4))  # Two-dimensional array\n",
        "arr3 = np.random.randint(10, size=(3, 4, 5))  # Three-dimensional array"
      ],
      "execution_count": null,
      "outputs": []
    },
    {
      "cell_type": "code",
      "metadata": {
        "id": "0i7RbvRGr0G6"
      },
      "source": [
        "arr2  #size=(3, 4)"
      ],
      "execution_count": null,
      "outputs": []
    },
    {
      "cell_type": "code",
      "metadata": {
        "id": "7BGWECb5r0s5"
      },
      "source": [
        "arr3   #size=(3, 4, 5)"
      ],
      "execution_count": null,
      "outputs": []
    },
    {
      "cell_type": "markdown",
      "metadata": {
        "id": "JhDCkDFFqkja"
      },
      "source": [
        "Each array has attributes ndim (the number of dimensions), shape (the size of each dimension), size (the total size of the array), and  dtype(the data type of the array)"
      ]
    },
    {
      "cell_type": "code",
      "metadata": {
        "id": "04VlgdkvqT8F"
      },
      "source": [
        "print(\"ndim of arr3: \", arr3.ndim)\n",
        "print(\"shape of arr3:\", arr3.shape)\n",
        "print(\"size of arr3: \", arr3.size)\n",
        "print(\"dtype of arr3:\", arr3.dtype)"
      ],
      "execution_count": null,
      "outputs": []
    },
    {
      "cell_type": "code",
      "metadata": {
        "id": "canpwLBQN0I2"
      },
      "source": [
        "import numpy as np\n",
        "a = np.array([1, 2, 3])\n",
        "print(a)            \n",
        "print(type(a))"
      ],
      "execution_count": null,
      "outputs": []
    },
    {
      "cell_type": "code",
      "metadata": {
        "id": "RtqAV9PCOFQq"
      },
      "source": [
        "#create array\n",
        "import numpy as np\n",
        "\n",
        "A = np.array([[1, 2, 3], [3, 4, 5]])\n",
        "print(A)\n",
        "\n",
        "A = np.array([[1.1, 2, 3], [3, 4.4, 5]]) # Array of floats\n",
        "print(A)\n"
      ],
      "execution_count": null,
      "outputs": []
    },
    {
      "cell_type": "code",
      "metadata": {
        "id": "-qBfL4HhOFbT"
      },
      "source": [
        "#Array of zeros and ones\n",
        "import numpy as np\n",
        "\n",
        "zeors_array = np.zeros( (2, 3) )\n",
        "print(zeors_array)\n",
        "\n",
        "ones_array = np.ones( (1, 5) , dtype=np.int32)  # specifying dtype\n",
        "print(ones_array) "
      ],
      "execution_count": null,
      "outputs": []
    },
    {
      "cell_type": "code",
      "metadata": {
        "id": "MIYub4NQOFpA"
      },
      "source": [
        "#Using arange() and shape()\n",
        "import numpy as np\n",
        "\n",
        "A = np.arange(4)\n",
        "print('A =', A)\n",
        "\n",
        "B = np.arange(12)\n",
        "C = B.reshape(2, 6)\n",
        "print('B =', B)\n",
        "print(C)"
      ],
      "execution_count": null,
      "outputs": []
    },
    {
      "cell_type": "code",
      "metadata": {
        "id": "Om_DWrv9Qf8G"
      },
      "source": [
        "print(np.arange(10000))\n",
        "print(np.arange(10000).reshape(100,100))"
      ],
      "execution_count": null,
      "outputs": []
    },
    {
      "cell_type": "code",
      "metadata": {
        "id": "sFNtGXP0lATZ"
      },
      "source": [
        "#Transpose of a Matrix\n",
        "print(A.T)\n",
        "A.T.dot(A)"
      ],
      "execution_count": null,
      "outputs": []
    },
    {
      "cell_type": "code",
      "metadata": {
        "id": "2ithIn0KOo0s"
      },
      "source": [
        "#Transpose of a Matrix\n",
        "A = np.array([[1, 1], [2, 1], [3, -3]])\n",
        "print(A.transpose())"
      ],
      "execution_count": null,
      "outputs": []
    },
    {
      "cell_type": "code",
      "metadata": {
        "id": "mAKTsltyOo6z"
      },
      "source": [
        "#Access matrix elements, rows and columns\n",
        "import numpy as np\n",
        "A = np.array([2, 4, 6, 8, 10])\n",
        "\n",
        "print(\"A[0] =\", A[0])     # First element     \n",
        "print(\"A[2] =\", A[2])     # Third element \n",
        "print(\"A[-1] =\", A[-1])   # Last element  \n"
      ],
      "execution_count": null,
      "outputs": []
    },
    {
      "cell_type": "code",
      "metadata": {
        "id": "YP0mbulKOpD6"
      },
      "source": [
        "A = np.array([[1, 4, 5, 12],\n",
        "    [-5, 8, 9, 0],\n",
        "    [-6, 7, 11, 19]])\n",
        "\n",
        "#  First element of first row\n",
        "print(\"A[0][0] =\", A[0][0])  \n",
        "\n",
        "# Third element of second row\n",
        "print(\"A[1][2] =\", A[1][2])\n",
        "\n",
        "# Last element of last row\n",
        "print(\"A[-1][-2] =\", A[-1][-2])  "
      ],
      "execution_count": null,
      "outputs": []
    },
    {
      "cell_type": "code",
      "metadata": {
        "id": "ja8PyaJHOpJx"
      },
      "source": [
        "print(\"A[0] =\", A[0]) \n",
        "print(\"A[2] =\", A[2]) \n",
        "print(\"A[-1] =\", A[-1]) "
      ],
      "execution_count": null,
      "outputs": []
    },
    {
      "cell_type": "code",
      "metadata": {
        "id": "G_Kj_iyrOpXu"
      },
      "source": [
        "A = np.array([[1, 4, 5, 12], \n",
        "    [-5, 8, 9, 0],\n",
        "    [-6, 7, 11, 19]])\n",
        "\n",
        "print(\"A[:,0] =\",A[:,0]) \n",
        "print(\"A[:,3] =\", A[:,3]) \n",
        "print(\"A[:,-1] =\", A[:,-1]) "
      ],
      "execution_count": null,
      "outputs": []
    },
    {
      "cell_type": "code",
      "metadata": {
        "id": "eEVXBSPmOpTs"
      },
      "source": [
        "#Slicing of a Matrix\n",
        "import numpy as np\n",
        "letters = np.array([1, 3, 5, 7, 9, 7, 5])\n",
        "\n",
        "print(letters[2:5])        \n",
        "\n",
        "print(letters[:-5])       \n",
        "\n",
        "print(letters[5:])         \n",
        "\n",
        "print(letters[:])          \n",
        "\n",
        "print(letters[::-1])  # reversing a list"
      ],
      "execution_count": null,
      "outputs": []
    },
    {
      "cell_type": "code",
      "metadata": {
        "id": "AZ5Yr1MwS7Vn"
      },
      "source": [
        "import numpy as np\n",
        "\n",
        "zeors_array = np.zeros((2, 3))\n",
        "print(zeors_array)"
      ],
      "execution_count": null,
      "outputs": []
    },
    {
      "cell_type": "code",
      "metadata": {
        "id": "TSHc1wBCUY16"
      },
      "source": [
        "zeors_array = np.zeros((2, 3, 4))\n",
        "print(zeors_array)"
      ],
      "execution_count": null,
      "outputs": []
    },
    {
      "cell_type": "markdown",
      "metadata": {
        "id": "LjwgUMxkdhkZ"
      },
      "source": [
        "# Image Data"
      ]
    },
    {
      "cell_type": "code",
      "metadata": {
        "id": "AvXxwQ0lu2nf"
      },
      "source": [
        "from scipy import misc\n",
        "\n",
        "f = misc.face()"
      ],
      "execution_count": null,
      "outputs": []
    },
    {
      "cell_type": "code",
      "metadata": {
        "id": "ZWTCHRZgO76h"
      },
      "source": [
        "print(f.shape)\n",
        "print(f.max())\n",
        "print(f.dtype)"
      ],
      "execution_count": null,
      "outputs": []
    },
    {
      "cell_type": "code",
      "metadata": {
        "id": "cWW75m8sYRU9"
      },
      "source": [
        "print(f)"
      ],
      "execution_count": null,
      "outputs": []
    },
    {
      "cell_type": "code",
      "metadata": {
        "id": "MuB8yLYHO8Ec"
      },
      "source": [
        "import matplotlib.pyplot as plt\n",
        "plt.imshow(f)\n",
        "plt.axis(\"off\") # removes the axis and the ticks\n",
        "plt.show()"
      ],
      "execution_count": null,
      "outputs": []
    },
    {
      "cell_type": "code",
      "metadata": {
        "id": "K-mrhFy7VVD9"
      },
      "source": [
        "import matplotlib.pyplot as plt\n",
        "plt.imshow(f[:,:,0], cmap=plt.cm.gray)  #Red\n",
        "plt.axis(\"off\") # removes the axis and the ticks\n",
        "plt.show()"
      ],
      "execution_count": null,
      "outputs": []
    },
    {
      "cell_type": "code",
      "metadata": {
        "id": "aoBh5p2ru4OI"
      },
      "source": [
        "import matplotlib.pyplot as plt\n",
        "plt.imshow(f[:,:,1], cmap=plt.cm.gray)  #Green\n",
        "plt.axis(\"off\") # removes the axis and the ticks\n",
        "plt.show()"
      ],
      "execution_count": null,
      "outputs": []
    },
    {
      "cell_type": "code",
      "metadata": {
        "id": "SjBxyvUDu79r"
      },
      "source": [
        "import matplotlib.pyplot as plt\n",
        "plt.imshow(f[:,:,2], cmap=plt.cm.gray)  #Blue\n",
        "plt.axis(\"off\") # removes the axis and the ticks\n",
        "plt.show()"
      ],
      "execution_count": null,
      "outputs": []
    },
    {
      "cell_type": "code",
      "metadata": {
        "id": "Vl0KMk0PzsJj"
      },
      "source": [
        "print(f[1:3,4,2])\n",
        "print(f[1,4:6,2])\n",
        "print(f[1:3,4:6,2])\n",
        "print(f[1:3,4:6,0:3])"
      ],
      "execution_count": null,
      "outputs": []
    },
    {
      "cell_type": "markdown",
      "metadata": {
        "id": "tw-udRNltduk"
      },
      "source": [
        "## Upload image"
      ]
    },
    {
      "cell_type": "code",
      "metadata": {
        "id": "FxVSSZfytc6-"
      },
      "source": [
        "from google.colab import files\n",
        "\n",
        "uploaded = files.upload()\n",
        "\n",
        "for fn in uploaded.keys():\n",
        "  print('User uploaded file \"{name}\" with length {length} bytes'.format(\n",
        "      name=fn, length=len(uploaded[fn])))"
      ],
      "execution_count": null,
      "outputs": []
    },
    {
      "cell_type": "code",
      "metadata": {
        "id": "OUvFFc64uEkD"
      },
      "source": [
        "image = plt.imread('20180701_161501.jpg')\n",
        "print(image.shape)\n",
        "print(image.max)\n",
        "print(image.dtype)\n",
        "\n",
        "plt.imshow(image)\n",
        "plt.axis(\"off\")\n",
        "plt.gray()\n",
        "plt.show()"
      ],
      "execution_count": null,
      "outputs": []
    },
    {
      "cell_type": "markdown",
      "metadata": {
        "id": "MhuIJ5q68-4q"
      },
      "source": [
        "#Plot\n",
        "\n",
        "https://matplotlib.org/3.1.1/api/_as_gen/matplotlib.pyplot.show.html"
      ]
    },
    {
      "cell_type": "code",
      "metadata": {
        "id": "AO4CUdGY-hOQ",
        "colab": {
          "base_uri": "https://localhost:8080/"
        },
        "outputId": "0989c2ff-49bc-4f3d-9d8f-acbef4e70206"
      },
      "source": [
        "import matplotlib.pyplot as plt \n",
        "\n",
        "plt.plot([1, 4, 9, 16],'*')\n",
        "plt.show()"
      ],
      "execution_count": null,
      "outputs": [
        {
          "output_type": "display_data",
          "data": {
            "image/png": "[encoded data removed]",
            "text/plain": [
              "<Figure size 432x288 with 1 Axes>"
            ]
          },
          "metadata": {
            "tags": [],
            "needs_background": "light"
          }
        }
      ]
    },
    {
      "cell_type": "code",
      "metadata": {
        "id": "kSpf87oX-kse",
        "colab": {
          "base_uri": "https://localhost:8080/"
        },
        "outputId": "d6b48ab0-88ff-4d9c-8148-92cbfdffcda0"
      },
      "source": [
        "plt.plot([10, 20, 30, 40], [1, 4, 9, 16],'o')\n",
        "plt.show()"
      ],
      "execution_count": null,
      "outputs": [
        {
          "output_type": "display_data",
          "data": {
            "image/png": "[encoded data removed]",
            "text/plain": [
              "<Figure size 432x288 with 1 Axes>"
            ]
          },
          "metadata": {
            "tags": [],
            "needs_background": "light"
          }
        }
      ]
    },
    {
      "cell_type": "code",
      "metadata": {
        "id": "SnjAljaYA80C",
        "colab": {
          "base_uri": "https://localhost:8080/"
        },
        "outputId": "7f4132dd-3484-4405-bdcc-526b70a0c2b8"
      },
      "source": [
        "data = {'apples': 10, 'oranges': 15, 'lemons': 5, 'limes': 20}\n",
        "names = list(data.keys())\n",
        "values = list(data.values())\n",
        "\n",
        "fig, axs = plt.subplots(1, 3, figsize=(9, 3), sharey=True)\n",
        "axs[0].bar(names, values)\n",
        "axs[1].scatter(names, values)\n",
        "axs[2].plot(names, values)\n",
        "fig.suptitle('Categorical Plotting')\n",
        "plt.show()"
      ],
      "execution_count": null,
      "outputs": [
        {
          "output_type": "display_data",
          "data": {
            "image/png": "[encoded data removed]",
            "text/plain": [
              "<Figure size 648x216 with 3 Axes>"
            ]
          },
          "metadata": {
            "tags": [],
            "needs_background": "light"
          }
        }
      ]
    },
    {
      "cell_type": "code",
      "metadata": {
        "id": "61bKHgwy_DuT",
        "colab": {
          "base_uri": "https://localhost:8080/"
        },
        "outputId": "cd8781e0-a332-4bbb-ebb7-73efb645cab9"
      },
      "source": [
        "plt.plot([10, 20, 30, 40], [1, 4, 9, 16], 'ms--')\n",
        "plt.show()\n",
        "\n"
      ],
      "execution_count": null,
      "outputs": [
        {
          "output_type": "display_data",
          "data": {
            "image/png": "[encoded data removed]",
            "text/plain": [
              "<Figure size 432x288 with 1 Axes>"
            ]
          },
          "metadata": {
            "tags": [],
            "needs_background": "light"
          }
        }
      ]
    },
    {
      "cell_type": "markdown",
      "metadata": {
        "id": "c7OuG8jI-wZ3"
      },
      "source": [
        "플롯 명령어는 다양한 스타일(style)을 지원한다.\n",
        "\n",
        "스타일 문자열은 색깔(color), 마커(marker), 선 종류(line style)의 순서로 지정한다. 만약 이 중 일부가 생략되면 디폴트값이 적용된다.\n",
        "\n",
        "https://matplotlib.org/examples/color/named_colors.html"
      ]
    },
    {
      "cell_type": "code",
      "metadata": {
        "id": "1vJLXgDizG62",
        "colab": {
          "base_uri": "https://localhost:8080/"
        },
        "outputId": "96081f05-1f5d-4e22-d52d-03a8faba4419"
      },
      "source": [
        "\n",
        "x = range(1, 6) \n",
        "y1 = [0.01, 0.019, 0.042, 0.038, 0.062] \n",
        "y2 = [0.02, 0.021, 0.03, 0.036, 0.044] \n",
        "plt.plot(x, y1, label=\"Label 1\") \n",
        "plt.plot(x, y2, label=\"Label 2\") \n",
        "plt.xlabel(\"X Label\") \n",
        "plt.ylabel(\"Y Label\") \n",
        "plt.title('Title') \n",
        "plt.legend()\n",
        "plt.show()\n"
      ],
      "execution_count": null,
      "outputs": [
        {
          "output_type": "display_data",
          "data": {
            "image/png": "[encoded data removed]",
            "text/plain": [
              "<Figure size 432x288 with 1 Axes>"
            ]
          },
          "metadata": {
            "tags": [],
            "needs_background": "light"
          }
        }
      ]
    },
    {
      "cell_type": "code",
      "metadata": {
        "id": "CH1R8u2991YI",
        "colab": {
          "base_uri": "https://localhost:8080/"
        },
        "outputId": "26d4ddb2-9a5d-4110-9613-299690326fe7"
      },
      "source": [
        "plt.subplot(2,1,1)\n",
        "plt.plot(x, y1, label=\"Label 1\") \n",
        "\n",
        "plt.subplot(2,1,2)\n",
        "plt.plot(x, y2, label=\"Label 2\") \n",
        "plt.show()"
      ],
      "execution_count": null,
      "outputs": [
        {
          "output_type": "display_data",
          "data": {
            "image/png": "[encoded data removed]",
            "text/plain": [
              "<Figure size 432x288 with 2 Axes>"
            ]
          },
          "metadata": {
            "tags": [],
            "needs_background": "light"
          }
        }
      ]
    }
  ]
}